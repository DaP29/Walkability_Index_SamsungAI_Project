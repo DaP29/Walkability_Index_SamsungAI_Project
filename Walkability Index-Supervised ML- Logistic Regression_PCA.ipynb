{
 "cells": [
  {
   "cell_type": "markdown",
   "metadata": {
    "toc": true
   },
   "source": [
    "<h1>Table of Contents<span class=\"tocSkip\"></span></h1>\n",
    "<div class=\"toc\"><ul class=\"toc-item\"><li><span><a href=\"#Explore-Data\" data-toc-modified-id=\"Explore-Data-1\"><span class=\"toc-item-num\">1&nbsp;&nbsp;</span>Explore Data</a></span></li><li><span><a href=\"#Logistic-Regression-without-PCA\" data-toc-modified-id=\"Logistic-Regression-without-PCA-2\"><span class=\"toc-item-num\">2&nbsp;&nbsp;</span>Logistic Regression without PCA</a></span><ul class=\"toc-item\"><li><span><a href=\"#Using-liblinear-solver-which-works-well-for-smaller-datasets-and-good-to-start-with\" data-toc-modified-id=\"Using-liblinear-solver-which-works-well-for-smaller-datasets-and-good-to-start-with-2.1\"><span class=\"toc-item-num\">2.1&nbsp;&nbsp;</span>Using liblinear solver which works well for smaller datasets and good to start with</a></span></li><li><span><a href=\"#Using-lbfgs-solver-which-works-well-for-large-datasets-but-it-did-not-converge-in-our-data\" data-toc-modified-id=\"Using-lbfgs-solver-which-works-well-for-large-datasets-but-it-did-not-converge-in-our-data-2.2\"><span class=\"toc-item-num\">2.2&nbsp;&nbsp;</span>Using lbfgs solver which works well for large datasets but it did not converge in our data</a></span></li></ul></li><li><span><a href=\"#Logistic-Regression-with-PCA\" data-toc-modified-id=\"Logistic-Regression-with-PCA-3\"><span class=\"toc-item-num\">3&nbsp;&nbsp;</span>Logistic Regression with PCA</a></span><ul class=\"toc-item\"><li><span><a href=\"#liblinear-solver\" data-toc-modified-id=\"liblinear-solver-3.1\"><span class=\"toc-item-num\">3.1&nbsp;&nbsp;</span>liblinear solver</a></span></li><li><span><a href=\"#Using-lbfsg-solver---good-for-medium-datasets\" data-toc-modified-id=\"Using-lbfsg-solver---good-for-medium-datasets-3.2\"><span class=\"toc-item-num\">3.2&nbsp;&nbsp;</span>Using lbfsg solver - good for medium datasets</a></span></li></ul></li></ul></div>"
   ]
  },
  {
   "cell_type": "code",
   "execution_count": 1,
   "metadata": {
    "executionInfo": {
     "elapsed": 421,
     "status": "ok",
     "timestamp": 1680912396657,
     "user": {
      "displayName": "Chastity Benton",
      "userId": "02800610617621087993"
     },
     "user_tz": 240
    },
    "id": "eiZsI80lHpU7",
    "scrolled": true
   },
   "outputs": [],
   "source": [
    "import pandas as pd\n",
    "import numpy as np\n",
    "import matplotlib.pyplot as plt\n",
    "import seaborn as sns\n",
    "from sklearn.preprocessing import StandardScaler, OneHotEncoder\n",
    "from sklearn.impute import SimpleImputer\n",
    "from sklearn.compose import make_column_selector, make_column_transformer\n",
    "from sklearn.pipeline import make_pipeline\n",
    "from sklearn.model_selection import train_test_split, GridSearchCV, RandomizedSearchCV\n",
    "from sklearn.metrics import accuracy_score, recall_score, precision_score, classification_report, confusion_matrix, ConfusionMatrixDisplay\n",
    "from sklearn import set_config\n",
    "set_config(display='diagram', transform_output='pandas')"
   ]
  },
  {
   "cell_type": "code",
   "execution_count": 3,
   "metadata": {
    "colab": {
     "base_uri": "https://localhost:8080/",
     "height": 540
    },
    "executionInfo": {
     "elapsed": 3097,
     "status": "ok",
     "timestamp": 1680912399750,
     "user": {
      "displayName": "Chastity Benton",
      "userId": "02800610617621087993"
     },
     "user_tz": 240
    },
    "id": "x7y3yaz_I-Pa",
    "outputId": "7ccefca0-dd17-4b42-bb79-c0f7c36e11cd"
   },
   "outputs": [
    {
     "data": {
      "text/html": [
       "<div>\n",
       "<style scoped>\n",
       "    .dataframe tbody tr th:only-of-type {\n",
       "        vertical-align: middle;\n",
       "    }\n",
       "\n",
       "    .dataframe tbody tr th {\n",
       "        vertical-align: top;\n",
       "    }\n",
       "\n",
       "    .dataframe thead th {\n",
       "        text-align: right;\n",
       "    }\n",
       "</style>\n",
       "<table border=\"1\" class=\"dataframe\">\n",
       "  <thead>\n",
       "    <tr style=\"text-align: right;\">\n",
       "      <th></th>\n",
       "      <th>OBJECTID</th>\n",
       "      <th>GEOID10</th>\n",
       "      <th>GEOID20</th>\n",
       "      <th>STATEFP</th>\n",
       "      <th>COUNTYFP</th>\n",
       "      <th>TRACTCE</th>\n",
       "      <th>BLKGRPCE</th>\n",
       "      <th>CSA</th>\n",
       "      <th>CSA_Name</th>\n",
       "      <th>CBSA</th>\n",
       "      <th>...</th>\n",
       "      <th>D5DRI</th>\n",
       "      <th>D5DE</th>\n",
       "      <th>D5DEI</th>\n",
       "      <th>D2A_Ranked</th>\n",
       "      <th>D2B_Ranked</th>\n",
       "      <th>D3B_Ranked</th>\n",
       "      <th>D4A_Ranked</th>\n",
       "      <th>NatWalkInd</th>\n",
       "      <th>Shape_Length</th>\n",
       "      <th>Shape_Area</th>\n",
       "    </tr>\n",
       "  </thead>\n",
       "  <tbody>\n",
       "    <tr>\n",
       "      <th>0</th>\n",
       "      <td>1</td>\n",
       "      <td>4.811300e+11</td>\n",
       "      <td>4.811300e+11</td>\n",
       "      <td>48</td>\n",
       "      <td>113</td>\n",
       "      <td>7825</td>\n",
       "      <td>4</td>\n",
       "      <td>206.0</td>\n",
       "      <td>Dallas-Fort Worth, TX-OK</td>\n",
       "      <td>19100.0</td>\n",
       "      <td>...</td>\n",
       "      <td>0.184697</td>\n",
       "      <td>0.000476</td>\n",
       "      <td>0.137707</td>\n",
       "      <td>6</td>\n",
       "      <td>14</td>\n",
       "      <td>15</td>\n",
       "      <td>17</td>\n",
       "      <td>14.000000</td>\n",
       "      <td>3110.360820</td>\n",
       "      <td>297836.0831</td>\n",
       "    </tr>\n",
       "    <tr>\n",
       "      <th>1</th>\n",
       "      <td>2</td>\n",
       "      <td>4.811300e+11</td>\n",
       "      <td>4.811300e+11</td>\n",
       "      <td>48</td>\n",
       "      <td>113</td>\n",
       "      <td>7825</td>\n",
       "      <td>2</td>\n",
       "      <td>206.0</td>\n",
       "      <td>Dallas-Fort Worth, TX-OK</td>\n",
       "      <td>19100.0</td>\n",
       "      <td>...</td>\n",
       "      <td>0.323221</td>\n",
       "      <td>0.000801</td>\n",
       "      <td>0.231868</td>\n",
       "      <td>3</td>\n",
       "      <td>10</td>\n",
       "      <td>12</td>\n",
       "      <td>14</td>\n",
       "      <td>10.833333</td>\n",
       "      <td>3519.469110</td>\n",
       "      <td>484945.1466</td>\n",
       "    </tr>\n",
       "    <tr>\n",
       "      <th>2</th>\n",
       "      <td>3</td>\n",
       "      <td>4.811300e+11</td>\n",
       "      <td>4.811300e+11</td>\n",
       "      <td>48</td>\n",
       "      <td>113</td>\n",
       "      <td>7825</td>\n",
       "      <td>3</td>\n",
       "      <td>206.0</td>\n",
       "      <td>Dallas-Fort Worth, TX-OK</td>\n",
       "      <td>19100.0</td>\n",
       "      <td>...</td>\n",
       "      <td>0.314628</td>\n",
       "      <td>0.000736</td>\n",
       "      <td>0.213146</td>\n",
       "      <td>1</td>\n",
       "      <td>1</td>\n",
       "      <td>7</td>\n",
       "      <td>17</td>\n",
       "      <td>8.333333</td>\n",
       "      <td>1697.091802</td>\n",
       "      <td>106705.9281</td>\n",
       "    </tr>\n",
       "    <tr>\n",
       "      <th>3</th>\n",
       "      <td>4</td>\n",
       "      <td>4.811300e+11</td>\n",
       "      <td>4.811300e+11</td>\n",
       "      <td>48</td>\n",
       "      <td>113</td>\n",
       "      <td>7824</td>\n",
       "      <td>1</td>\n",
       "      <td>206.0</td>\n",
       "      <td>Dallas-Fort Worth, TX-OK</td>\n",
       "      <td>19100.0</td>\n",
       "      <td>...</td>\n",
       "      <td>0.229821</td>\n",
       "      <td>0.000708</td>\n",
       "      <td>0.205018</td>\n",
       "      <td>16</td>\n",
       "      <td>10</td>\n",
       "      <td>17</td>\n",
       "      <td>17</td>\n",
       "      <td>15.666667</td>\n",
       "      <td>2922.609204</td>\n",
       "      <td>481828.4303</td>\n",
       "    </tr>\n",
       "    <tr>\n",
       "      <th>4</th>\n",
       "      <td>5</td>\n",
       "      <td>4.811300e+11</td>\n",
       "      <td>4.811300e+11</td>\n",
       "      <td>48</td>\n",
       "      <td>113</td>\n",
       "      <td>7824</td>\n",
       "      <td>2</td>\n",
       "      <td>206.0</td>\n",
       "      <td>Dallas-Fort Worth, TX-OK</td>\n",
       "      <td>19100.0</td>\n",
       "      <td>...</td>\n",
       "      <td>0.164863</td>\n",
       "      <td>0.000433</td>\n",
       "      <td>0.125296</td>\n",
       "      <td>4</td>\n",
       "      <td>7</td>\n",
       "      <td>11</td>\n",
       "      <td>14</td>\n",
       "      <td>10.166667</td>\n",
       "      <td>3731.971773</td>\n",
       "      <td>687684.7752</td>\n",
       "    </tr>\n",
       "  </tbody>\n",
       "</table>\n",
       "<p>5 rows × 117 columns</p>\n",
       "</div>"
      ],
      "text/plain": [
       "   OBJECTID       GEOID10       GEOID20  STATEFP  COUNTYFP  TRACTCE  BLKGRPCE  \\\n",
       "0         1  4.811300e+11  4.811300e+11       48       113     7825         4   \n",
       "1         2  4.811300e+11  4.811300e+11       48       113     7825         2   \n",
       "2         3  4.811300e+11  4.811300e+11       48       113     7825         3   \n",
       "3         4  4.811300e+11  4.811300e+11       48       113     7824         1   \n",
       "4         5  4.811300e+11  4.811300e+11       48       113     7824         2   \n",
       "\n",
       "     CSA                  CSA_Name     CBSA  ...     D5DRI      D5DE  \\\n",
       "0  206.0  Dallas-Fort Worth, TX-OK  19100.0  ...  0.184697  0.000476   \n",
       "1  206.0  Dallas-Fort Worth, TX-OK  19100.0  ...  0.323221  0.000801   \n",
       "2  206.0  Dallas-Fort Worth, TX-OK  19100.0  ...  0.314628  0.000736   \n",
       "3  206.0  Dallas-Fort Worth, TX-OK  19100.0  ...  0.229821  0.000708   \n",
       "4  206.0  Dallas-Fort Worth, TX-OK  19100.0  ...  0.164863  0.000433   \n",
       "\n",
       "      D5DEI  D2A_Ranked  D2B_Ranked  D3B_Ranked  D4A_Ranked  NatWalkInd  \\\n",
       "0  0.137707           6          14          15          17   14.000000   \n",
       "1  0.231868           3          10          12          14   10.833333   \n",
       "2  0.213146           1           1           7          17    8.333333   \n",
       "3  0.205018          16          10          17          17   15.666667   \n",
       "4  0.125296           4           7          11          14   10.166667   \n",
       "\n",
       "   Shape_Length   Shape_Area  \n",
       "0   3110.360820  297836.0831  \n",
       "1   3519.469110  484945.1466  \n",
       "2   1697.091802  106705.9281  \n",
       "3   2922.609204  481828.4303  \n",
       "4   3731.971773  687684.7752  \n",
       "\n",
       "[5 rows x 117 columns]"
      ]
     },
     "execution_count": 3,
     "metadata": {},
     "output_type": "execute_result"
    }
   ],
   "source": [
    "#load the dataset\n",
    "df = pd.read_csv('EPA_SmartLocationDatabase_V3_Jan_2021_Final.csv')\n",
    "\n",
    "df.head()"
   ]
  },
  {
   "cell_type": "markdown",
   "metadata": {
    "id": "ykujz9o7Jezp"
   },
   "source": [
    "## Explore Data"
   ]
  },
  {
   "cell_type": "code",
   "execution_count": 4,
   "metadata": {
    "colab": {
     "base_uri": "https://localhost:8080/"
    },
    "executionInfo": {
     "elapsed": 8,
     "status": "ok",
     "timestamp": 1680912399751,
     "user": {
      "displayName": "Chastity Benton",
      "userId": "02800610617621087993"
     },
     "user_tz": 240
    },
    "id": "jWjMyeF0Jgck",
    "outputId": "1283ee1b-4bbe-4181-cc44-0e93b1f35b80"
   },
   "outputs": [
    {
     "name": "stdout",
     "output_type": "stream",
     "text": [
      "<class 'pandas.core.frame.DataFrame'>\n",
      "RangeIndex: 220740 entries, 0 to 220739\n",
      "Columns: 117 entries, OBJECTID to Shape_Area\n",
      "dtypes: float64(73), int64(42), object(2)\n",
      "memory usage: 197.0+ MB\n"
     ]
    }
   ],
   "source": [
    "#explore datatypes\n",
    "df.info()"
   ]
  },
  {
   "cell_type": "code",
   "execution_count": 5,
   "metadata": {
    "colab": {
     "base_uri": "https://localhost:8080/",
     "height": 384
    },
    "executionInfo": {
     "elapsed": 1210,
     "status": "ok",
     "timestamp": 1680912400955,
     "user": {
      "displayName": "Chastity Benton",
      "userId": "02800610617621087993"
     },
     "user_tz": 240
    },
    "id": "m1OmuyasJjku",
    "outputId": "e4e02a26-6a6d-465e-e9b4-338387e49d49"
   },
   "outputs": [
    {
     "data": {
      "text/html": [
       "<div>\n",
       "<style scoped>\n",
       "    .dataframe tbody tr th:only-of-type {\n",
       "        vertical-align: middle;\n",
       "    }\n",
       "\n",
       "    .dataframe tbody tr th {\n",
       "        vertical-align: top;\n",
       "    }\n",
       "\n",
       "    .dataframe thead th {\n",
       "        text-align: right;\n",
       "    }\n",
       "</style>\n",
       "<table border=\"1\" class=\"dataframe\">\n",
       "  <thead>\n",
       "    <tr style=\"text-align: right;\">\n",
       "      <th></th>\n",
       "      <th>OBJECTID</th>\n",
       "      <th>GEOID10</th>\n",
       "      <th>GEOID20</th>\n",
       "      <th>STATEFP</th>\n",
       "      <th>COUNTYFP</th>\n",
       "      <th>TRACTCE</th>\n",
       "      <th>BLKGRPCE</th>\n",
       "      <th>CSA</th>\n",
       "      <th>CBSA</th>\n",
       "      <th>CBSA_POP</th>\n",
       "      <th>...</th>\n",
       "      <th>D5DRI</th>\n",
       "      <th>D5DE</th>\n",
       "      <th>D5DEI</th>\n",
       "      <th>D2A_Ranked</th>\n",
       "      <th>D2B_Ranked</th>\n",
       "      <th>D3B_Ranked</th>\n",
       "      <th>D4A_Ranked</th>\n",
       "      <th>NatWalkInd</th>\n",
       "      <th>Shape_Length</th>\n",
       "      <th>Shape_Area</th>\n",
       "    </tr>\n",
       "  </thead>\n",
       "  <tbody>\n",
       "    <tr>\n",
       "      <th>count</th>\n",
       "      <td>220740.000000</td>\n",
       "      <td>2.207390e+05</td>\n",
       "      <td>2.207400e+05</td>\n",
       "      <td>220740.000000</td>\n",
       "      <td>220740.000000</td>\n",
       "      <td>220740.000000</td>\n",
       "      <td>220740.000000</td>\n",
       "      <td>167709.000000</td>\n",
       "      <td>203645.000000</td>\n",
       "      <td>2.207400e+05</td>\n",
       "      <td>...</td>\n",
       "      <td>220740.000000</td>\n",
       "      <td>220740.000000</td>\n",
       "      <td>220740.000000</td>\n",
       "      <td>220740.000000</td>\n",
       "      <td>220740.000000</td>\n",
       "      <td>220740.000000</td>\n",
       "      <td>220740.000000</td>\n",
       "      <td>220740.000000</td>\n",
       "      <td>2.207400e+05</td>\n",
       "      <td>2.207400e+05</td>\n",
       "    </tr>\n",
       "    <tr>\n",
       "      <th>mean</th>\n",
       "      <td>110370.500000</td>\n",
       "      <td>2.870894e+11</td>\n",
       "      <td>2.870915e+11</td>\n",
       "      <td>28.623190</td>\n",
       "      <td>85.697449</td>\n",
       "      <td>262342.382110</td>\n",
       "      <td>2.221392</td>\n",
       "      <td>341.742661</td>\n",
       "      <td>30514.836210</td>\n",
       "      <td>3.607329e+06</td>\n",
       "      <td>...</td>\n",
       "      <td>-57326.486630</td>\n",
       "      <td>-57326.597590</td>\n",
       "      <td>-57326.483325</td>\n",
       "      <td>10.500000</td>\n",
       "      <td>10.500000</td>\n",
       "      <td>10.500000</td>\n",
       "      <td>7.624884</td>\n",
       "      <td>9.541628</td>\n",
       "      <td>1.655970e+04</td>\n",
       "      <td>4.466074e+07</td>\n",
       "    </tr>\n",
       "    <tr>\n",
       "      <th>std</th>\n",
       "      <td>63722.293548</td>\n",
       "      <td>1.640746e+11</td>\n",
       "      <td>1.640774e+11</td>\n",
       "      <td>16.386075</td>\n",
       "      <td>98.818946</td>\n",
       "      <td>351403.837442</td>\n",
       "      <td>1.195155</td>\n",
       "      <td>125.700068</td>\n",
       "      <td>10979.471375</td>\n",
       "      <td>5.219925e+06</td>\n",
       "      <td>...</td>\n",
       "      <td>49459.959391</td>\n",
       "      <td>49459.830782</td>\n",
       "      <td>49459.963223</td>\n",
       "      <td>5.766294</td>\n",
       "      <td>5.766294</td>\n",
       "      <td>5.766294</td>\n",
       "      <td>7.812853</td>\n",
       "      <td>4.373952</td>\n",
       "      <td>3.830373e+04</td>\n",
       "      <td>6.430513e+08</td>\n",
       "    </tr>\n",
       "    <tr>\n",
       "      <th>min</th>\n",
       "      <td>1.000000</td>\n",
       "      <td>1.001020e+10</td>\n",
       "      <td>1.001020e+10</td>\n",
       "      <td>1.000000</td>\n",
       "      <td>1.000000</td>\n",
       "      <td>100.000000</td>\n",
       "      <td>0.000000</td>\n",
       "      <td>104.000000</td>\n",
       "      <td>10100.000000</td>\n",
       "      <td>0.000000e+00</td>\n",
       "      <td>...</td>\n",
       "      <td>-99999.000000</td>\n",
       "      <td>-99999.000000</td>\n",
       "      <td>-99999.000000</td>\n",
       "      <td>1.000000</td>\n",
       "      <td>1.000000</td>\n",
       "      <td>1.000000</td>\n",
       "      <td>1.000000</td>\n",
       "      <td>1.000000</td>\n",
       "      <td>2.685713e+02</td>\n",
       "      <td>4.435890e+03</td>\n",
       "    </tr>\n",
       "    <tr>\n",
       "      <th>25%</th>\n",
       "      <td>55185.750000</td>\n",
       "      <td>1.312100e+11</td>\n",
       "      <td>1.312100e+11</td>\n",
       "      <td>13.000000</td>\n",
       "      <td>29.000000</td>\n",
       "      <td>10303.000000</td>\n",
       "      <td>1.000000</td>\n",
       "      <td>218.000000</td>\n",
       "      <td>19740.000000</td>\n",
       "      <td>2.053030e+05</td>\n",
       "      <td>...</td>\n",
       "      <td>-99999.000000</td>\n",
       "      <td>-99999.000000</td>\n",
       "      <td>-99999.000000</td>\n",
       "      <td>5.750000</td>\n",
       "      <td>5.750000</td>\n",
       "      <td>5.750000</td>\n",
       "      <td>1.000000</td>\n",
       "      <td>5.833333</td>\n",
       "      <td>3.271213e+03</td>\n",
       "      <td>4.985104e+05</td>\n",
       "    </tr>\n",
       "    <tr>\n",
       "      <th>50%</th>\n",
       "      <td>110370.500000</td>\n",
       "      <td>2.901900e+11</td>\n",
       "      <td>2.901900e+11</td>\n",
       "      <td>29.000000</td>\n",
       "      <td>61.000000</td>\n",
       "      <td>46298.000000</td>\n",
       "      <td>2.000000</td>\n",
       "      <td>361.000000</td>\n",
       "      <td>32820.000000</td>\n",
       "      <td>1.252890e+06</td>\n",
       "      <td>...</td>\n",
       "      <td>-99999.000000</td>\n",
       "      <td>-99999.000000</td>\n",
       "      <td>-99999.000000</td>\n",
       "      <td>10.500000</td>\n",
       "      <td>10.500000</td>\n",
       "      <td>10.500000</td>\n",
       "      <td>1.000000</td>\n",
       "      <td>9.166667</td>\n",
       "      <td>5.877323e+03</td>\n",
       "      <td>1.373918e+06</td>\n",
       "    </tr>\n",
       "    <tr>\n",
       "      <th>75%</th>\n",
       "      <td>165555.250000</td>\n",
       "      <td>4.200350e+11</td>\n",
       "      <td>4.200350e+11</td>\n",
       "      <td>42.000000</td>\n",
       "      <td>109.000000</td>\n",
       "      <td>482503.000000</td>\n",
       "      <td>3.000000</td>\n",
       "      <td>429.000000</td>\n",
       "      <td>39300.000000</td>\n",
       "      <td>4.673634e+06</td>\n",
       "      <td>...</td>\n",
       "      <td>0.142514</td>\n",
       "      <td>0.000354</td>\n",
       "      <td>0.161708</td>\n",
       "      <td>15.250000</td>\n",
       "      <td>15.250000</td>\n",
       "      <td>15.250000</td>\n",
       "      <td>16.000000</td>\n",
       "      <td>13.166667</td>\n",
       "      <td>1.596391e+04</td>\n",
       "      <td>9.413158e+06</td>\n",
       "    </tr>\n",
       "    <tr>\n",
       "      <th>max</th>\n",
       "      <td>220740.000000</td>\n",
       "      <td>7.803100e+11</td>\n",
       "      <td>7.803100e+11</td>\n",
       "      <td>78.000000</td>\n",
       "      <td>840.000000</td>\n",
       "      <td>993000.000000</td>\n",
       "      <td>9.000000</td>\n",
       "      <td>566.000000</td>\n",
       "      <td>49820.000000</td>\n",
       "      <td>1.931847e+07</td>\n",
       "      <td>...</td>\n",
       "      <td>1.000000</td>\n",
       "      <td>1.000000</td>\n",
       "      <td>1.000000</td>\n",
       "      <td>20.000000</td>\n",
       "      <td>20.000000</td>\n",
       "      <td>20.000000</td>\n",
       "      <td>20.000000</td>\n",
       "      <td>20.000000</td>\n",
       "      <td>3.925989e+06</td>\n",
       "      <td>1.641290e+11</td>\n",
       "    </tr>\n",
       "  </tbody>\n",
       "</table>\n",
       "<p>8 rows × 115 columns</p>\n",
       "</div>"
      ],
      "text/plain": [
       "            OBJECTID       GEOID10       GEOID20        STATEFP  \\\n",
       "count  220740.000000  2.207390e+05  2.207400e+05  220740.000000   \n",
       "mean   110370.500000  2.870894e+11  2.870915e+11      28.623190   \n",
       "std     63722.293548  1.640746e+11  1.640774e+11      16.386075   \n",
       "min         1.000000  1.001020e+10  1.001020e+10       1.000000   \n",
       "25%     55185.750000  1.312100e+11  1.312100e+11      13.000000   \n",
       "50%    110370.500000  2.901900e+11  2.901900e+11      29.000000   \n",
       "75%    165555.250000  4.200350e+11  4.200350e+11      42.000000   \n",
       "max    220740.000000  7.803100e+11  7.803100e+11      78.000000   \n",
       "\n",
       "            COUNTYFP        TRACTCE       BLKGRPCE            CSA  \\\n",
       "count  220740.000000  220740.000000  220740.000000  167709.000000   \n",
       "mean       85.697449  262342.382110       2.221392     341.742661   \n",
       "std        98.818946  351403.837442       1.195155     125.700068   \n",
       "min         1.000000     100.000000       0.000000     104.000000   \n",
       "25%        29.000000   10303.000000       1.000000     218.000000   \n",
       "50%        61.000000   46298.000000       2.000000     361.000000   \n",
       "75%       109.000000  482503.000000       3.000000     429.000000   \n",
       "max       840.000000  993000.000000       9.000000     566.000000   \n",
       "\n",
       "                CBSA      CBSA_POP  ...          D5DRI           D5DE  \\\n",
       "count  203645.000000  2.207400e+05  ...  220740.000000  220740.000000   \n",
       "mean    30514.836210  3.607329e+06  ...  -57326.486630  -57326.597590   \n",
       "std     10979.471375  5.219925e+06  ...   49459.959391   49459.830782   \n",
       "min     10100.000000  0.000000e+00  ...  -99999.000000  -99999.000000   \n",
       "25%     19740.000000  2.053030e+05  ...  -99999.000000  -99999.000000   \n",
       "50%     32820.000000  1.252890e+06  ...  -99999.000000  -99999.000000   \n",
       "75%     39300.000000  4.673634e+06  ...       0.142514       0.000354   \n",
       "max     49820.000000  1.931847e+07  ...       1.000000       1.000000   \n",
       "\n",
       "               D5DEI     D2A_Ranked     D2B_Ranked     D3B_Ranked  \\\n",
       "count  220740.000000  220740.000000  220740.000000  220740.000000   \n",
       "mean   -57326.483325      10.500000      10.500000      10.500000   \n",
       "std     49459.963223       5.766294       5.766294       5.766294   \n",
       "min    -99999.000000       1.000000       1.000000       1.000000   \n",
       "25%    -99999.000000       5.750000       5.750000       5.750000   \n",
       "50%    -99999.000000      10.500000      10.500000      10.500000   \n",
       "75%         0.161708      15.250000      15.250000      15.250000   \n",
       "max         1.000000      20.000000      20.000000      20.000000   \n",
       "\n",
       "          D4A_Ranked     NatWalkInd  Shape_Length    Shape_Area  \n",
       "count  220740.000000  220740.000000  2.207400e+05  2.207400e+05  \n",
       "mean        7.624884       9.541628  1.655970e+04  4.466074e+07  \n",
       "std         7.812853       4.373952  3.830373e+04  6.430513e+08  \n",
       "min         1.000000       1.000000  2.685713e+02  4.435890e+03  \n",
       "25%         1.000000       5.833333  3.271213e+03  4.985104e+05  \n",
       "50%         1.000000       9.166667  5.877323e+03  1.373918e+06  \n",
       "75%        16.000000      13.166667  1.596391e+04  9.413158e+06  \n",
       "max        20.000000      20.000000  3.925989e+06  1.641290e+11  \n",
       "\n",
       "[8 rows x 115 columns]"
      ]
     },
     "execution_count": 5,
     "metadata": {},
     "output_type": "execute_result"
    }
   ],
   "source": [
    "df.describe()"
   ]
  },
  {
   "cell_type": "code",
   "execution_count": 6,
   "metadata": {
    "colab": {
     "base_uri": "https://localhost:8080/",
     "height": 540
    },
    "executionInfo": {
     "elapsed": 35,
     "status": "ok",
     "timestamp": 1680912400956,
     "user": {
      "displayName": "Chastity Benton",
      "userId": "02800610617621087993"
     },
     "user_tz": 240
    },
    "id": "MJbOgytiJpjU",
    "outputId": "7159018e-c48c-4e5e-acfc-339d197df6d2"
   },
   "outputs": [
    {
     "data": {
      "text/html": [
       "<div>\n",
       "<style scoped>\n",
       "    .dataframe tbody tr th:only-of-type {\n",
       "        vertical-align: middle;\n",
       "    }\n",
       "\n",
       "    .dataframe tbody tr th {\n",
       "        vertical-align: top;\n",
       "    }\n",
       "\n",
       "    .dataframe thead th {\n",
       "        text-align: right;\n",
       "    }\n",
       "</style>\n",
       "<table border=\"1\" class=\"dataframe\">\n",
       "  <thead>\n",
       "    <tr style=\"text-align: right;\">\n",
       "      <th></th>\n",
       "      <th>OBJECTID</th>\n",
       "      <th>CBSA_Name</th>\n",
       "      <th>CBSA_POP</th>\n",
       "      <th>CBSA_EMP</th>\n",
       "      <th>CBSA_WRK</th>\n",
       "      <th>Ac_Total</th>\n",
       "      <th>Ac_Water</th>\n",
       "      <th>Ac_Land</th>\n",
       "      <th>Ac_Unpr</th>\n",
       "      <th>TotPop</th>\n",
       "      <th>...</th>\n",
       "      <th>D5AR</th>\n",
       "      <th>D5AE</th>\n",
       "      <th>D5BR</th>\n",
       "      <th>D5BE</th>\n",
       "      <th>D5CR</th>\n",
       "      <th>D5DR</th>\n",
       "      <th>D5DE</th>\n",
       "      <th>NatWalkInd</th>\n",
       "      <th>Shape_Length</th>\n",
       "      <th>Shape_Area</th>\n",
       "    </tr>\n",
       "  </thead>\n",
       "  <tbody>\n",
       "    <tr>\n",
       "      <th>0</th>\n",
       "      <td>1</td>\n",
       "      <td>Dallas-Fort Worth-Arlington, TX</td>\n",
       "      <td>7189384</td>\n",
       "      <td>3545715</td>\n",
       "      <td>3364458</td>\n",
       "      <td>73.595028</td>\n",
       "      <td>0.0</td>\n",
       "      <td>73.595028</td>\n",
       "      <td>73.595028</td>\n",
       "      <td>1202</td>\n",
       "      <td>...</td>\n",
       "      <td>433601</td>\n",
       "      <td>303660</td>\n",
       "      <td>135362</td>\n",
       "      <td>53504</td>\n",
       "      <td>0.000398</td>\n",
       "      <td>0.000525</td>\n",
       "      <td>0.000476</td>\n",
       "      <td>14.000000</td>\n",
       "      <td>3110.360820</td>\n",
       "      <td>297836.0831</td>\n",
       "    </tr>\n",
       "    <tr>\n",
       "      <th>1</th>\n",
       "      <td>2</td>\n",
       "      <td>Dallas-Fort Worth-Arlington, TX</td>\n",
       "      <td>7189384</td>\n",
       "      <td>3545715</td>\n",
       "      <td>3364458</td>\n",
       "      <td>119.829909</td>\n",
       "      <td>0.0</td>\n",
       "      <td>119.829909</td>\n",
       "      <td>119.214200</td>\n",
       "      <td>710</td>\n",
       "      <td>...</td>\n",
       "      <td>386504</td>\n",
       "      <td>272135</td>\n",
       "      <td>236885</td>\n",
       "      <td>90089</td>\n",
       "      <td>0.000355</td>\n",
       "      <td>0.000919</td>\n",
       "      <td>0.000801</td>\n",
       "      <td>10.833333</td>\n",
       "      <td>3519.469110</td>\n",
       "      <td>484945.1466</td>\n",
       "    </tr>\n",
       "    <tr>\n",
       "      <th>2</th>\n",
       "      <td>3</td>\n",
       "      <td>Dallas-Fort Worth-Arlington, TX</td>\n",
       "      <td>7189384</td>\n",
       "      <td>3545715</td>\n",
       "      <td>3364458</td>\n",
       "      <td>26.367053</td>\n",
       "      <td>0.0</td>\n",
       "      <td>26.367053</td>\n",
       "      <td>26.367050</td>\n",
       "      <td>737</td>\n",
       "      <td>...</td>\n",
       "      <td>404573</td>\n",
       "      <td>288925</td>\n",
       "      <td>230587</td>\n",
       "      <td>82815</td>\n",
       "      <td>0.000371</td>\n",
       "      <td>0.000894</td>\n",
       "      <td>0.000736</td>\n",
       "      <td>8.333333</td>\n",
       "      <td>1697.091802</td>\n",
       "      <td>106705.9281</td>\n",
       "    </tr>\n",
       "    <tr>\n",
       "      <th>3</th>\n",
       "      <td>4</td>\n",
       "      <td>Dallas-Fort Worth-Arlington, TX</td>\n",
       "      <td>7189384</td>\n",
       "      <td>3545715</td>\n",
       "      <td>3364458</td>\n",
       "      <td>119.060687</td>\n",
       "      <td>0.0</td>\n",
       "      <td>119.060687</td>\n",
       "      <td>119.060687</td>\n",
       "      <td>904</td>\n",
       "      <td>...</td>\n",
       "      <td>423099</td>\n",
       "      <td>298058</td>\n",
       "      <td>168433</td>\n",
       "      <td>79657</td>\n",
       "      <td>0.000388</td>\n",
       "      <td>0.000653</td>\n",
       "      <td>0.000708</td>\n",
       "      <td>15.666667</td>\n",
       "      <td>2922.609204</td>\n",
       "      <td>481828.4303</td>\n",
       "    </tr>\n",
       "    <tr>\n",
       "      <th>4</th>\n",
       "      <td>5</td>\n",
       "      <td>Dallas-Fort Worth-Arlington, TX</td>\n",
       "      <td>7189384</td>\n",
       "      <td>3545715</td>\n",
       "      <td>3364458</td>\n",
       "      <td>169.927211</td>\n",
       "      <td>0.0</td>\n",
       "      <td>169.927211</td>\n",
       "      <td>148.742920</td>\n",
       "      <td>948</td>\n",
       "      <td>...</td>\n",
       "      <td>335700</td>\n",
       "      <td>238166</td>\n",
       "      <td>120826</td>\n",
       "      <td>48682</td>\n",
       "      <td>0.000308</td>\n",
       "      <td>0.000469</td>\n",
       "      <td>0.000433</td>\n",
       "      <td>10.166667</td>\n",
       "      <td>3731.971773</td>\n",
       "      <td>687684.7752</td>\n",
       "    </tr>\n",
       "  </tbody>\n",
       "</table>\n",
       "<p>5 rows × 50 columns</p>\n",
       "</div>"
      ],
      "text/plain": [
       "   OBJECTID                        CBSA_Name  CBSA_POP  CBSA_EMP  CBSA_WRK  \\\n",
       "0         1  Dallas-Fort Worth-Arlington, TX   7189384   3545715   3364458   \n",
       "1         2  Dallas-Fort Worth-Arlington, TX   7189384   3545715   3364458   \n",
       "2         3  Dallas-Fort Worth-Arlington, TX   7189384   3545715   3364458   \n",
       "3         4  Dallas-Fort Worth-Arlington, TX   7189384   3545715   3364458   \n",
       "4         5  Dallas-Fort Worth-Arlington, TX   7189384   3545715   3364458   \n",
       "\n",
       "     Ac_Total  Ac_Water     Ac_Land     Ac_Unpr  TotPop  ...    D5AR    D5AE  \\\n",
       "0   73.595028       0.0   73.595028   73.595028    1202  ...  433601  303660   \n",
       "1  119.829909       0.0  119.829909  119.214200     710  ...  386504  272135   \n",
       "2   26.367053       0.0   26.367053   26.367050     737  ...  404573  288925   \n",
       "3  119.060687       0.0  119.060687  119.060687     904  ...  423099  298058   \n",
       "4  169.927211       0.0  169.927211  148.742920     948  ...  335700  238166   \n",
       "\n",
       "     D5BR   D5BE      D5CR      D5DR      D5DE  NatWalkInd  Shape_Length  \\\n",
       "0  135362  53504  0.000398  0.000525  0.000476   14.000000   3110.360820   \n",
       "1  236885  90089  0.000355  0.000919  0.000801   10.833333   3519.469110   \n",
       "2  230587  82815  0.000371  0.000894  0.000736    8.333333   1697.091802   \n",
       "3  168433  79657  0.000388  0.000653  0.000708   15.666667   2922.609204   \n",
       "4  120826  48682  0.000308  0.000469  0.000433   10.166667   3731.971773   \n",
       "\n",
       "    Shape_Area  \n",
       "0  297836.0831  \n",
       "1  484945.1466  \n",
       "2  106705.9281  \n",
       "3  481828.4303  \n",
       "4  687684.7752  \n",
       "\n",
       "[5 rows x 50 columns]"
      ]
     },
     "execution_count": 6,
     "metadata": {},
     "output_type": "execute_result"
    }
   ],
   "source": [
    "df.drop(columns = ['CSA_Name', 'GEOID10', 'GEOID20', 'STATEFP', 'COUNTYFP', 'TRACTCE', 'BLKGRPCE', 'CSA', 'CBSA','E5_Ent', 'E5_Ret', 'E5_Off','E5_Ind', 'E5_Svc','E8_Ent', 'E8_Ret', 'E8_off', 'E8_Ind', 'E8_Svc', 'E8_Ent', 'E8_Ed', 'E8_Hlth', 'E8_Pub','D1C5_RET','D1C5_OFF','D1C5_IND','D1C5_SVC','D1C5_ENT','D1C8_RET','D1C8_OFF','D1C8_IND','D1C8_SVC','D1C8_ENT','D1C8_ED','D1C8_HLTH','D1C8_PUB', 'D2B_E5MIX', 'D2B_E5MIXA', 'D2B_E8MIX', 'D2B_E8MIXA', 'D2A_EPHHM', 'D2C_TRPMX1', 'D2C_TRPMX2', 'D2C_TRIPEQ', 'D2R_JOBPOP', 'D2R_WRKEMP', 'D2A_WRKEMP', 'D2C_WREMLX', 'D3AAO', 'D3AMM', 'D3APO', 'D3BAO', 'D3BMM3', 'D3BMM4', 'D3BPO3', 'D3BPO4', 'D4B025', 'D4B050', 'D4D', 'D5CRI', 'D5CEI', 'D5DRI', 'D5DEI', 'D5CE','D2A_Ranked','D2B_Ranked','D3B_Ranked','D4A_Ranked'], inplace = True)\n",
    "df.head() "
   ]
  },
  {
   "cell_type": "code",
   "execution_count": 7,
   "metadata": {
    "colab": {
     "base_uri": "https://localhost:8080/"
    },
    "executionInfo": {
     "elapsed": 803,
     "status": "ok",
     "timestamp": 1680912401742,
     "user": {
      "displayName": "Chastity Benton",
      "userId": "02800610617621087993"
     },
     "user_tz": 240
    },
    "id": "WiO90b6VRtY5",
    "outputId": "19b6ef49-23e5-4208-b0ea-fd45b8e75fde"
   },
   "outputs": [
    {
     "data": {
      "text/plain": [
       "False"
      ]
     },
     "execution_count": 7,
     "metadata": {},
     "output_type": "execute_result"
    }
   ],
   "source": [
    "#determine duplicates\n",
    "df.duplicated().any()"
   ]
  },
  {
   "cell_type": "code",
   "execution_count": 8,
   "metadata": {
    "colab": {
     "base_uri": "https://localhost:8080/"
    },
    "executionInfo": {
     "elapsed": 23,
     "status": "ok",
     "timestamp": 1680912401743,
     "user": {
      "displayName": "Chastity Benton",
      "userId": "02800610617621087993"
     },
     "user_tz": 240
    },
    "id": "Jd_V6J8iBzQ9",
    "outputId": "ec61fc0d-a1f0-4edc-927f-7834011c3998"
   },
   "outputs": [
    {
     "data": {
      "text/plain": [
       "OBJECTID            0\n",
       "CBSA_Name       17095\n",
       "CBSA_POP            0\n",
       "CBSA_EMP            0\n",
       "CBSA_WRK            0\n",
       "Ac_Total            0\n",
       "Ac_Water            0\n",
       "Ac_Land             0\n",
       "Ac_Unpr             0\n",
       "TotPop              0\n",
       "CountHU           275\n",
       "HH                275\n",
       "P_WrkAge            0\n",
       "AutoOwn0            0\n",
       "Pct_AO0             0\n",
       "AutoOwn1            0\n",
       "Pct_AO1             0\n",
       "AutoOwn2p           0\n",
       "Pct_AO2p            0\n",
       "Workers             0\n",
       "R_LowWageWk         0\n",
       "R_MedWageWk         0\n",
       "R_HiWageWk          0\n",
       "R_PCTLOWWAGE        0\n",
       "TotEmp              0\n",
       "E_LowWageWk         0\n",
       "E_MedWageWk         0\n",
       "E_HiWageWk          0\n",
       "E_PctLowWage        0\n",
       "D1A               271\n",
       "D1B                 0\n",
       "D1C                 0\n",
       "D1D                 0\n",
       "D1_FLAG             0\n",
       "D2A_JPHH            0\n",
       "D3A                 0\n",
       "D3B                 0\n",
       "D4A                 0\n",
       "D4C                 0\n",
       "D4E                 1\n",
       "D5AR                0\n",
       "D5AE                0\n",
       "D5BR                0\n",
       "D5BE                0\n",
       "D5CR                0\n",
       "D5DR                0\n",
       "D5DE                0\n",
       "NatWalkInd          0\n",
       "Shape_Length        0\n",
       "Shape_Area          0\n",
       "dtype: int64"
      ]
     },
     "execution_count": 8,
     "metadata": {},
     "output_type": "execute_result"
    }
   ],
   "source": [
    "#determine number of missing values\n",
    "df.isna().sum()"
   ]
  },
  {
   "cell_type": "code",
   "execution_count": 9,
   "metadata": {},
   "outputs": [],
   "source": [
    "# dropping variables related to D2A_EPHHM variable\n",
    "df.drop(columns = ['HH'], inplace = True)\n",
    "\n",
    "# dropping variables related to D2b_E8MIXA variable\n",
    "df.drop(columns = ['TotEmp'], inplace = True)\n",
    "\n",
    "# dropping variables related to D3b and D4a variables\n",
    "df.drop(columns = ['D4A'], inplace = True)\n",
    "#df.head()"
   ]
  },
  {
   "cell_type": "code",
   "execution_count": 10,
   "metadata": {},
   "outputs": [],
   "source": [
    "def binarize(value):\n",
    "    if value > 10.5: # above average\n",
    "        return 1\n",
    "    else:\n",
    "        return 0 # below avrage \n",
    "df['NatWalkInd'] = df['NatWalkInd'].apply(binarize).astype(np.int64) \n",
    "# creating binary variable for walkability - whether it is above average ( equals 1) or below average (equals 0)"
   ]
  },
  {
   "cell_type": "code",
   "execution_count": 11,
   "metadata": {},
   "outputs": [],
   "source": [
    "value_counts=df['NatWalkInd'].value_counts() # levels of our dependent variable "
   ]
  },
  {
   "cell_type": "code",
   "execution_count": 12,
   "metadata": {},
   "outputs": [
    {
     "data": {
      "text/plain": [
       "0    0.580416\n",
       "1    0.419584\n",
       "Name: NatWalkInd, dtype: float64"
      ]
     },
     "execution_count": 12,
     "metadata": {},
     "output_type": "execute_result"
    }
   ],
   "source": [
    "df['NatWalkInd'].value_counts(normalize=True) # our target variable is not highly unbalanced so we can keep it like this"
   ]
  },
  {
   "cell_type": "code",
   "execution_count": 13,
   "metadata": {},
   "outputs": [
    {
     "data": {
      "image/png": "[encoded data removed]",
      "text/plain": [
       "<Figure size 640x480 with 1 Axes>"
      ]
     },
     "metadata": {},
     "output_type": "display_data"
    }
   ],
   "source": [
    "import matplotlib.pyplot as plt\n",
    "plt.bar(value_counts.index, value_counts.values,color=['blue','red'])\n",
    "# add labels and title to the plot\n",
    "plt.xticks([0, 1], ['Below Average Walkability', 'Above Average Walkability'])\n",
    "plt.ylabel('Count')\n",
    "plt.title('Walkability Class')\n",
    "\n",
    "# show the plot\n",
    "plt.show()"
   ]
  },
  {
   "cell_type": "code",
   "execution_count": 14,
   "metadata": {
    "executionInfo": {
     "elapsed": 16,
     "status": "ok",
     "timestamp": 1680912424241,
     "user": {
      "displayName": "Chastity Benton",
      "userId": "02800610617621087993"
     },
     "user_tz": 240
    },
    "id": "W7t3sat7c0rJ"
   },
   "outputs": [],
   "source": [
    "#identify target and features\n",
    "X = df.drop(columns = 'NatWalkInd')\n",
    "y = df['NatWalkInd'] # we want to predict the walkability class - either above average walkability - 1 or below average walkability - 0"
   ]
  },
  {
   "cell_type": "code",
   "execution_count": 15,
   "metadata": {
    "executionInfo": {
     "elapsed": 15,
     "status": "ok",
     "timestamp": 1680912424242,
     "user": {
      "displayName": "Chastity Benton",
      "userId": "02800610617621087993"
     },
     "user_tz": 240
    },
    "id": "RVR-o3eWdDX9"
   },
   "outputs": [],
   "source": [
    "#perform a train test split\n",
    "X_train, X_test, y_train, y_test = train_test_split(X, y, random_state=42)"
   ]
  },
  {
   "cell_type": "code",
   "execution_count": 16,
   "metadata": {
    "executionInfo": {
     "elapsed": 14,
     "status": "ok",
     "timestamp": 1680912424242,
     "user": {
      "displayName": "Chastity Benton",
      "userId": "02800610617621087993"
     },
     "user_tz": 240
    },
    "id": "pCDqJdmodKAd"
   },
   "outputs": [],
   "source": [
    "#instantiate column selectors\n",
    "cat_selector = make_column_selector(dtype_include='object')\n",
    "num_selector = make_column_selector(dtype_include='number')"
   ]
  },
  {
   "cell_type": "code",
   "execution_count": 17,
   "metadata": {
    "executionInfo": {
     "elapsed": 14,
     "status": "ok",
     "timestamp": 1680912424243,
     "user": {
      "displayName": "Chastity Benton",
      "userId": "02800610617621087993"
     },
     "user_tz": 240
    },
    "id": "11XtSqcDdU9E"
   },
   "outputs": [],
   "source": [
    "#intantiate imputers for missing values\n",
    "freq_imputer = SimpleImputer(strategy='most_frequent')\n",
    "mean_imputer = SimpleImputer(strategy='mean')\n",
    "\n",
    "#instantiate the encoder and scalers\n",
    "scaler = StandardScaler()\n",
    "ohe = OneHotEncoder(handle_unknown='ignore', sparse_output= False)"
   ]
  },
  {
   "cell_type": "code",
   "execution_count": 18,
   "metadata": {
    "colab": {
     "base_uri": "https://localhost:8080/",
     "height": 124
    },
    "executionInfo": {
     "elapsed": 14,
     "status": "ok",
     "timestamp": 1680912424243,
     "user": {
      "displayName": "Chastity Benton",
      "userId": "02800610617621087993"
     },
     "user_tz": 240
    },
    "id": "m7H4xvh4d28f",
    "outputId": "8756e28c-52ba-4c49-dac3-190f83075de2"
   },
   "outputs": [
    {
     "data": {
      "text/html": [
       "<style>#sk-container-id-1 {color: black;background-color: white;}#sk-container-id-1 pre{padding: 0;}#sk-container-id-1 div.sk-toggleable {background-color: white;}#sk-container-id-1 label.sk-toggleable__label {cursor: pointer;display: block;width: 100%;margin-bottom: 0;padding: 0.3em;box-sizing: border-box;text-align: center;}#sk-container-id-1 label.sk-toggleable__label-arrow:before {content: \"▸\";float: left;margin-right: 0.25em;color: #696969;}#sk-container-id-1 label.sk-toggleable__label-arrow:hover:before {color: black;}#sk-container-id-1 div.sk-estimator:hover label.sk-toggleable__label-arrow:before {color: black;}#sk-container-id-1 div.sk-toggleable__content {max-height: 0;max-width: 0;overflow: hidden;text-align: left;background-color: #f0f8ff;}#sk-container-id-1 div.sk-toggleable__content pre {margin: 0.2em;color: black;border-radius: 0.25em;background-color: #f0f8ff;}#sk-container-id-1 input.sk-toggleable__control:checked~div.sk-toggleable__content {max-height: 200px;max-width: 100%;overflow: auto;}#sk-container-id-1 input.sk-toggleable__control:checked~label.sk-toggleable__label-arrow:before {content: \"▾\";}#sk-container-id-1 div.sk-estimator input.sk-toggleable__control:checked~label.sk-toggleable__label {background-color: #d4ebff;}#sk-container-id-1 div.sk-label input.sk-toggleable__control:checked~label.sk-toggleable__label {background-color: #d4ebff;}#sk-container-id-1 input.sk-hidden--visually {border: 0;clip: rect(1px 1px 1px 1px);clip: rect(1px, 1px, 1px, 1px);height: 1px;margin: -1px;overflow: hidden;padding: 0;position: absolute;width: 1px;}#sk-container-id-1 div.sk-estimator {font-family: monospace;background-color: #f0f8ff;border: 1px dotted black;border-radius: 0.25em;box-sizing: border-box;margin-bottom: 0.5em;}#sk-container-id-1 div.sk-estimator:hover {background-color: #d4ebff;}#sk-container-id-1 div.sk-parallel-item::after {content: \"\";width: 100%;border-bottom: 1px solid gray;flex-grow: 1;}#sk-container-id-1 div.sk-label:hover label.sk-toggleable__label {background-color: #d4ebff;}#sk-container-id-1 div.sk-serial::before {content: \"\";position: absolute;border-left: 1px solid gray;box-sizing: border-box;top: 0;bottom: 0;left: 50%;z-index: 0;}#sk-container-id-1 div.sk-serial {display: flex;flex-direction: column;align-items: center;background-color: white;padding-right: 0.2em;padding-left: 0.2em;position: relative;}#sk-container-id-1 div.sk-item {position: relative;z-index: 1;}#sk-container-id-1 div.sk-parallel {display: flex;align-items: stretch;justify-content: center;background-color: white;position: relative;}#sk-container-id-1 div.sk-item::before, #sk-container-id-1 div.sk-parallel-item::before {content: \"\";position: absolute;border-left: 1px solid gray;box-sizing: border-box;top: 0;bottom: 0;left: 50%;z-index: -1;}#sk-container-id-1 div.sk-parallel-item {display: flex;flex-direction: column;z-index: 1;position: relative;background-color: white;}#sk-container-id-1 div.sk-parallel-item:first-child::after {align-self: flex-end;width: 50%;}#sk-container-id-1 div.sk-parallel-item:last-child::after {align-self: flex-start;width: 50%;}#sk-container-id-1 div.sk-parallel-item:only-child::after {width: 0;}#sk-container-id-1 div.sk-dashed-wrapped {border: 1px dashed gray;margin: 0 0.4em 0.5em 0.4em;box-sizing: border-box;padding-bottom: 0.4em;background-color: white;}#sk-container-id-1 div.sk-label label {font-family: monospace;font-weight: bold;display: inline-block;line-height: 1.2em;}#sk-container-id-1 div.sk-label-container {text-align: center;}#sk-container-id-1 div.sk-container {/* jupyter's `normalize.less` sets `[hidden] { display: none; }` but bootstrap.min.css set `[hidden] { display: none !important; }` so we also need the `!important` here to be able to override the default hidden behavior on the sphinx rendered scikit-learn.org. See: https://github.com/scikit-learn/scikit-learn/issues/21755 */display: inline-block !important;position: relative;}#sk-container-id-1 div.sk-text-repr-fallback {display: none;}</style><div id=\"sk-container-id-1\" class=\"sk-top-container\"><div class=\"sk-text-repr-fallback\"><pre>Pipeline(steps=[(&#x27;simpleimputer&#x27;, SimpleImputer()),\n",
       "                (&#x27;standardscaler&#x27;, StandardScaler())])</pre><b>In a Jupyter environment, please rerun this cell to show the HTML representation or trust the notebook. <br />On GitHub, the HTML representation is unable to render, please try loading this page with nbviewer.org.</b></div><div class=\"sk-container\" hidden><div class=\"sk-item sk-dashed-wrapped\"><div class=\"sk-label-container\"><div class=\"sk-label sk-toggleable\"><input class=\"sk-toggleable__control sk-hidden--visually\" id=\"sk-estimator-id-1\" type=\"checkbox\" ><label for=\"sk-estimator-id-1\" class=\"sk-toggleable__label sk-toggleable__label-arrow\">Pipeline</label><div class=\"sk-toggleable__content\"><pre>Pipeline(steps=[(&#x27;simpleimputer&#x27;, SimpleImputer()),\n",
       "                (&#x27;standardscaler&#x27;, StandardScaler())])</pre></div></div></div><div class=\"sk-serial\"><div class=\"sk-item\"><div class=\"sk-estimator sk-toggleable\"><input class=\"sk-toggleable__control sk-hidden--visually\" id=\"sk-estimator-id-2\" type=\"checkbox\" ><label for=\"sk-estimator-id-2\" class=\"sk-toggleable__label sk-toggleable__label-arrow\">SimpleImputer</label><div class=\"sk-toggleable__content\"><pre>SimpleImputer()</pre></div></div></div><div class=\"sk-item\"><div class=\"sk-estimator sk-toggleable\"><input class=\"sk-toggleable__control sk-hidden--visually\" id=\"sk-estimator-id-3\" type=\"checkbox\" ><label for=\"sk-estimator-id-3\" class=\"sk-toggleable__label sk-toggleable__label-arrow\">StandardScaler</label><div class=\"sk-toggleable__content\"><pre>StandardScaler()</pre></div></div></div></div></div></div></div>"
      ],
      "text/plain": [
       "Pipeline(steps=[('simpleimputer', SimpleImputer()),\n",
       "                ('standardscaler', StandardScaler())])"
      ]
     },
     "execution_count": 18,
     "metadata": {},
     "output_type": "execute_result"
    }
   ],
   "source": [
    "#instantiate the numerical pipeline\n",
    "num_pipe = make_pipeline(mean_imputer, scaler)\n",
    "num_pipe"
   ]
  },
  {
   "cell_type": "code",
   "execution_count": 19,
   "metadata": {
    "colab": {
     "base_uri": "https://localhost:8080/",
     "height": 124
    },
    "executionInfo": {
     "elapsed": 13,
     "status": "ok",
     "timestamp": 1680912424244,
     "user": {
      "displayName": "Chastity Benton",
      "userId": "02800610617621087993"
     },
     "user_tz": 240
    },
    "id": "mIZ8YPHueFIJ",
    "outputId": "82807c05-11f9-435f-db23-7c0a71a5e0c0"
   },
   "outputs": [
    {
     "data": {
      "text/html": [
       "<style>#sk-container-id-2 {color: black;background-color: white;}#sk-container-id-2 pre{padding: 0;}#sk-container-id-2 div.sk-toggleable {background-color: white;}#sk-container-id-2 label.sk-toggleable__label {cursor: pointer;display: block;width: 100%;margin-bottom: 0;padding: 0.3em;box-sizing: border-box;text-align: center;}#sk-container-id-2 label.sk-toggleable__label-arrow:before {content: \"▸\";float: left;margin-right: 0.25em;color: #696969;}#sk-container-id-2 label.sk-toggleable__label-arrow:hover:before {color: black;}#sk-container-id-2 div.sk-estimator:hover label.sk-toggleable__label-arrow:before {color: black;}#sk-container-id-2 div.sk-toggleable__content {max-height: 0;max-width: 0;overflow: hidden;text-align: left;background-color: #f0f8ff;}#sk-container-id-2 div.sk-toggleable__content pre {margin: 0.2em;color: black;border-radius: 0.25em;background-color: #f0f8ff;}#sk-container-id-2 input.sk-toggleable__control:checked~div.sk-toggleable__content {max-height: 200px;max-width: 100%;overflow: auto;}#sk-container-id-2 input.sk-toggleable__control:checked~label.sk-toggleable__label-arrow:before {content: \"▾\";}#sk-container-id-2 div.sk-estimator input.sk-toggleable__control:checked~label.sk-toggleable__label {background-color: #d4ebff;}#sk-container-id-2 div.sk-label input.sk-toggleable__control:checked~label.sk-toggleable__label {background-color: #d4ebff;}#sk-container-id-2 input.sk-hidden--visually {border: 0;clip: rect(1px 1px 1px 1px);clip: rect(1px, 1px, 1px, 1px);height: 1px;margin: -1px;overflow: hidden;padding: 0;position: absolute;width: 1px;}#sk-container-id-2 div.sk-estimator {font-family: monospace;background-color: #f0f8ff;border: 1px dotted black;border-radius: 0.25em;box-sizing: border-box;margin-bottom: 0.5em;}#sk-container-id-2 div.sk-estimator:hover {background-color: #d4ebff;}#sk-container-id-2 div.sk-parallel-item::after {content: \"\";width: 100%;border-bottom: 1px solid gray;flex-grow: 1;}#sk-container-id-2 div.sk-label:hover label.sk-toggleable__label {background-color: #d4ebff;}#sk-container-id-2 div.sk-serial::before {content: \"\";position: absolute;border-left: 1px solid gray;box-sizing: border-box;top: 0;bottom: 0;left: 50%;z-index: 0;}#sk-container-id-2 div.sk-serial {display: flex;flex-direction: column;align-items: center;background-color: white;padding-right: 0.2em;padding-left: 0.2em;position: relative;}#sk-container-id-2 div.sk-item {position: relative;z-index: 1;}#sk-container-id-2 div.sk-parallel {display: flex;align-items: stretch;justify-content: center;background-color: white;position: relative;}#sk-container-id-2 div.sk-item::before, #sk-container-id-2 div.sk-parallel-item::before {content: \"\";position: absolute;border-left: 1px solid gray;box-sizing: border-box;top: 0;bottom: 0;left: 50%;z-index: -1;}#sk-container-id-2 div.sk-parallel-item {display: flex;flex-direction: column;z-index: 1;position: relative;background-color: white;}#sk-container-id-2 div.sk-parallel-item:first-child::after {align-self: flex-end;width: 50%;}#sk-container-id-2 div.sk-parallel-item:last-child::after {align-self: flex-start;width: 50%;}#sk-container-id-2 div.sk-parallel-item:only-child::after {width: 0;}#sk-container-id-2 div.sk-dashed-wrapped {border: 1px dashed gray;margin: 0 0.4em 0.5em 0.4em;box-sizing: border-box;padding-bottom: 0.4em;background-color: white;}#sk-container-id-2 div.sk-label label {font-family: monospace;font-weight: bold;display: inline-block;line-height: 1.2em;}#sk-container-id-2 div.sk-label-container {text-align: center;}#sk-container-id-2 div.sk-container {/* jupyter's `normalize.less` sets `[hidden] { display: none; }` but bootstrap.min.css set `[hidden] { display: none !important; }` so we also need the `!important` here to be able to override the default hidden behavior on the sphinx rendered scikit-learn.org. See: https://github.com/scikit-learn/scikit-learn/issues/21755 */display: inline-block !important;position: relative;}#sk-container-id-2 div.sk-text-repr-fallback {display: none;}</style><div id=\"sk-container-id-2\" class=\"sk-top-container\"><div class=\"sk-text-repr-fallback\"><pre>Pipeline(steps=[(&#x27;simpleimputer&#x27;, SimpleImputer(strategy=&#x27;most_frequent&#x27;)),\n",
       "                (&#x27;onehotencoder&#x27;,\n",
       "                 OneHotEncoder(handle_unknown=&#x27;ignore&#x27;, sparse_output=False))])</pre><b>In a Jupyter environment, please rerun this cell to show the HTML representation or trust the notebook. <br />On GitHub, the HTML representation is unable to render, please try loading this page with nbviewer.org.</b></div><div class=\"sk-container\" hidden><div class=\"sk-item sk-dashed-wrapped\"><div class=\"sk-label-container\"><div class=\"sk-label sk-toggleable\"><input class=\"sk-toggleable__control sk-hidden--visually\" id=\"sk-estimator-id-4\" type=\"checkbox\" ><label for=\"sk-estimator-id-4\" class=\"sk-toggleable__label sk-toggleable__label-arrow\">Pipeline</label><div class=\"sk-toggleable__content\"><pre>Pipeline(steps=[(&#x27;simpleimputer&#x27;, SimpleImputer(strategy=&#x27;most_frequent&#x27;)),\n",
       "                (&#x27;onehotencoder&#x27;,\n",
       "                 OneHotEncoder(handle_unknown=&#x27;ignore&#x27;, sparse_output=False))])</pre></div></div></div><div class=\"sk-serial\"><div class=\"sk-item\"><div class=\"sk-estimator sk-toggleable\"><input class=\"sk-toggleable__control sk-hidden--visually\" id=\"sk-estimator-id-5\" type=\"checkbox\" ><label for=\"sk-estimator-id-5\" class=\"sk-toggleable__label sk-toggleable__label-arrow\">SimpleImputer</label><div class=\"sk-toggleable__content\"><pre>SimpleImputer(strategy=&#x27;most_frequent&#x27;)</pre></div></div></div><div class=\"sk-item\"><div class=\"sk-estimator sk-toggleable\"><input class=\"sk-toggleable__control sk-hidden--visually\" id=\"sk-estimator-id-6\" type=\"checkbox\" ><label for=\"sk-estimator-id-6\" class=\"sk-toggleable__label sk-toggleable__label-arrow\">OneHotEncoder</label><div class=\"sk-toggleable__content\"><pre>OneHotEncoder(handle_unknown=&#x27;ignore&#x27;, sparse_output=False)</pre></div></div></div></div></div></div></div>"
      ],
      "text/plain": [
       "Pipeline(steps=[('simpleimputer', SimpleImputer(strategy='most_frequent')),\n",
       "                ('onehotencoder',\n",
       "                 OneHotEncoder(handle_unknown='ignore', sparse_output=False))])"
      ]
     },
     "execution_count": 19,
     "metadata": {},
     "output_type": "execute_result"
    }
   ],
   "source": [
    "#instantiate the categorical pipeline\n",
    "cat_pipe = make_pipeline(freq_imputer, ohe)\n",
    "cat_pipe"
   ]
  },
  {
   "cell_type": "code",
   "execution_count": 20,
   "metadata": {
    "executionInfo": {
     "elapsed": 11,
     "status": "ok",
     "timestamp": 1680912424244,
     "user": {
      "displayName": "Chastity Benton",
      "userId": "02800610617621087993"
     },
     "user_tz": 240
    },
    "id": "Ox1pv77TeRpN"
   },
   "outputs": [],
   "source": [
    "#create the tuple for column transformer\n",
    "num_tuple = (num_pipe, num_selector)\n",
    "cat_tuple = (cat_pipe, cat_selector)\n",
    "\n",
    "#create the preprocessor column transformer\n",
    "preprocessor = make_column_transformer(num_tuple, cat_tuple, remainder = 'passthrough', verbose_feature_names_out=False)"
   ]
  },
  {
   "cell_type": "code",
   "execution_count": 21,
   "metadata": {
    "executionInfo": {
     "elapsed": 9768,
     "status": "ok",
     "timestamp": 1680912434001,
     "user": {
      "displayName": "Chastity Benton",
      "userId": "02800610617621087993"
     },
     "user_tz": 240
    },
    "id": "Ei1LNl98e2BM"
   },
   "outputs": [],
   "source": [
    "#transform the data\n",
    "#fit only the train data\n",
    "preprocessor.fit(X_train)\n",
    "\n",
    "#trainsform train and test data\n",
    "X_train_processed = preprocessor.transform(X_train)\n",
    "X_test_processed = preprocessor.transform(X_test)"
   ]
  },
  {
   "cell_type": "code",
   "execution_count": 22,
   "metadata": {},
   "outputs": [
    {
     "data": {
      "text/html": [
       "<div>\n",
       "<style scoped>\n",
       "    .dataframe tbody tr th:only-of-type {\n",
       "        vertical-align: middle;\n",
       "    }\n",
       "\n",
       "    .dataframe tbody tr th {\n",
       "        vertical-align: top;\n",
       "    }\n",
       "\n",
       "    .dataframe thead th {\n",
       "        text-align: right;\n",
       "    }\n",
       "</style>\n",
       "<table border=\"1\" class=\"dataframe\">\n",
       "  <thead>\n",
       "    <tr style=\"text-align: right;\">\n",
       "      <th></th>\n",
       "      <th>OBJECTID</th>\n",
       "      <th>CBSA_POP</th>\n",
       "      <th>CBSA_EMP</th>\n",
       "      <th>CBSA_WRK</th>\n",
       "      <th>Ac_Total</th>\n",
       "      <th>Ac_Water</th>\n",
       "      <th>Ac_Land</th>\n",
       "      <th>Ac_Unpr</th>\n",
       "      <th>TotPop</th>\n",
       "      <th>CountHU</th>\n",
       "      <th>...</th>\n",
       "      <th>CBSA_Name_Worthington, MN</th>\n",
       "      <th>CBSA_Name_Yakima, WA</th>\n",
       "      <th>CBSA_Name_Yankton, SD</th>\n",
       "      <th>CBSA_Name_Yauco, PR</th>\n",
       "      <th>CBSA_Name_York-Hanover, PA</th>\n",
       "      <th>CBSA_Name_Youngstown-Warren-Boardman, OH-PA</th>\n",
       "      <th>CBSA_Name_Yuba City, CA</th>\n",
       "      <th>CBSA_Name_Yuma, AZ</th>\n",
       "      <th>CBSA_Name_Zanesville, OH</th>\n",
       "      <th>CBSA_Name_Zapata, TX</th>\n",
       "    </tr>\n",
       "  </thead>\n",
       "  <tbody>\n",
       "    <tr>\n",
       "      <th>162938</th>\n",
       "      <td>0.826823</td>\n",
       "      <td>3.003217</td>\n",
       "      <td>3.009904</td>\n",
       "      <td>3.039379</td>\n",
       "      <td>-0.079893</td>\n",
       "      <td>-0.030836</td>\n",
       "      <td>-0.079528</td>\n",
       "      <td>-0.164016</td>\n",
       "      <td>0.033541</td>\n",
       "      <td>0.548389</td>\n",
       "      <td>...</td>\n",
       "      <td>0.0</td>\n",
       "      <td>0.0</td>\n",
       "      <td>0.0</td>\n",
       "      <td>0.0</td>\n",
       "      <td>0.0</td>\n",
       "      <td>0.0</td>\n",
       "      <td>0.0</td>\n",
       "      <td>0.0</td>\n",
       "      <td>0.0</td>\n",
       "      <td>0.0</td>\n",
       "    </tr>\n",
       "    <tr>\n",
       "      <th>25426</th>\n",
       "      <td>-1.330805</td>\n",
       "      <td>0.202831</td>\n",
       "      <td>0.129502</td>\n",
       "      <td>0.133622</td>\n",
       "      <td>-0.056064</td>\n",
       "      <td>-0.029736</td>\n",
       "      <td>-0.054283</td>\n",
       "      <td>-0.124140</td>\n",
       "      <td>1.274285</td>\n",
       "      <td>2.528233</td>\n",
       "      <td>...</td>\n",
       "      <td>0.0</td>\n",
       "      <td>0.0</td>\n",
       "      <td>0.0</td>\n",
       "      <td>0.0</td>\n",
       "      <td>0.0</td>\n",
       "      <td>0.0</td>\n",
       "      <td>0.0</td>\n",
       "      <td>0.0</td>\n",
       "      <td>0.0</td>\n",
       "      <td>0.0</td>\n",
       "    </tr>\n",
       "    <tr>\n",
       "      <th>131964</th>\n",
       "      <td>0.340826</td>\n",
       "      <td>-0.690861</td>\n",
       "      <td>-0.678834</td>\n",
       "      <td>-0.680828</td>\n",
       "      <td>0.517257</td>\n",
       "      <td>0.045003</td>\n",
       "      <td>0.544007</td>\n",
       "      <td>1.336929</td>\n",
       "      <td>-0.729684</td>\n",
       "      <td>0.519505</td>\n",
       "      <td>...</td>\n",
       "      <td>0.0</td>\n",
       "      <td>0.0</td>\n",
       "      <td>0.0</td>\n",
       "      <td>0.0</td>\n",
       "      <td>0.0</td>\n",
       "      <td>0.0</td>\n",
       "      <td>0.0</td>\n",
       "      <td>0.0</td>\n",
       "      <td>0.0</td>\n",
       "      <td>0.0</td>\n",
       "    </tr>\n",
       "    <tr>\n",
       "      <th>199794</th>\n",
       "      <td>1.405111</td>\n",
       "      <td>-0.686036</td>\n",
       "      <td>-0.674233</td>\n",
       "      <td>-0.680630</td>\n",
       "      <td>0.130399</td>\n",
       "      <td>-0.027758</td>\n",
       "      <td>0.144505</td>\n",
       "      <td>0.504475</td>\n",
       "      <td>0.279872</td>\n",
       "      <td>0.285810</td>\n",
       "      <td>...</td>\n",
       "      <td>0.0</td>\n",
       "      <td>0.0</td>\n",
       "      <td>0.0</td>\n",
       "      <td>0.0</td>\n",
       "      <td>0.0</td>\n",
       "      <td>0.0</td>\n",
       "      <td>0.0</td>\n",
       "      <td>0.0</td>\n",
       "      <td>0.0</td>\n",
       "      <td>0.0</td>\n",
       "    </tr>\n",
       "    <tr>\n",
       "      <th>200487</th>\n",
       "      <td>1.415985</td>\n",
       "      <td>-0.585300</td>\n",
       "      <td>-0.580691</td>\n",
       "      <td>-0.586108</td>\n",
       "      <td>-0.079080</td>\n",
       "      <td>-0.030836</td>\n",
       "      <td>-0.078659</td>\n",
       "      <td>-0.161333</td>\n",
       "      <td>-0.348072</td>\n",
       "      <td>-0.780260</td>\n",
       "      <td>...</td>\n",
       "      <td>0.0</td>\n",
       "      <td>0.0</td>\n",
       "      <td>0.0</td>\n",
       "      <td>0.0</td>\n",
       "      <td>0.0</td>\n",
       "      <td>0.0</td>\n",
       "      <td>0.0</td>\n",
       "      <td>0.0</td>\n",
       "      <td>0.0</td>\n",
       "      <td>0.0</td>\n",
       "    </tr>\n",
       "    <tr>\n",
       "      <th>...</th>\n",
       "      <td>...</td>\n",
       "      <td>...</td>\n",
       "      <td>...</td>\n",
       "      <td>...</td>\n",
       "      <td>...</td>\n",
       "      <td>...</td>\n",
       "      <td>...</td>\n",
       "      <td>...</td>\n",
       "      <td>...</td>\n",
       "      <td>...</td>\n",
       "      <td>...</td>\n",
       "      <td>...</td>\n",
       "      <td>...</td>\n",
       "      <td>...</td>\n",
       "      <td>...</td>\n",
       "      <td>...</td>\n",
       "      <td>...</td>\n",
       "      <td>...</td>\n",
       "      <td>...</td>\n",
       "      <td>...</td>\n",
       "      <td>...</td>\n",
       "    </tr>\n",
       "    <tr>\n",
       "      <th>119879</th>\n",
       "      <td>0.151207</td>\n",
       "      <td>-0.489208</td>\n",
       "      <td>-0.446815</td>\n",
       "      <td>-0.473697</td>\n",
       "      <td>-0.077341</td>\n",
       "      <td>-0.030789</td>\n",
       "      <td>-0.076811</td>\n",
       "      <td>-0.155630</td>\n",
       "      <td>1.067326</td>\n",
       "      <td>0.587776</td>\n",
       "      <td>...</td>\n",
       "      <td>0.0</td>\n",
       "      <td>0.0</td>\n",
       "      <td>0.0</td>\n",
       "      <td>0.0</td>\n",
       "      <td>0.0</td>\n",
       "      <td>0.0</td>\n",
       "      <td>0.0</td>\n",
       "      <td>0.0</td>\n",
       "      <td>0.0</td>\n",
       "      <td>0.0</td>\n",
       "    </tr>\n",
       "    <tr>\n",
       "      <th>103694</th>\n",
       "      <td>-0.102743</td>\n",
       "      <td>-0.684844</td>\n",
       "      <td>-0.675425</td>\n",
       "      <td>-0.675412</td>\n",
       "      <td>0.274086</td>\n",
       "      <td>0.040535</td>\n",
       "      <td>0.285119</td>\n",
       "      <td>0.961541</td>\n",
       "      <td>-0.162313</td>\n",
       "      <td>0.375087</td>\n",
       "      <td>...</td>\n",
       "      <td>0.0</td>\n",
       "      <td>0.0</td>\n",
       "      <td>0.0</td>\n",
       "      <td>0.0</td>\n",
       "      <td>0.0</td>\n",
       "      <td>0.0</td>\n",
       "      <td>0.0</td>\n",
       "      <td>0.0</td>\n",
       "      <td>0.0</td>\n",
       "      <td>0.0</td>\n",
       "    </tr>\n",
       "    <tr>\n",
       "      <th>131932</th>\n",
       "      <td>0.340324</td>\n",
       "      <td>-0.154384</td>\n",
       "      <td>-0.131869</td>\n",
       "      <td>-0.125403</td>\n",
       "      <td>-0.069920</td>\n",
       "      <td>-0.030836</td>\n",
       "      <td>-0.068876</td>\n",
       "      <td>-0.131136</td>\n",
       "      <td>3.137925</td>\n",
       "      <td>3.218815</td>\n",
       "      <td>...</td>\n",
       "      <td>0.0</td>\n",
       "      <td>0.0</td>\n",
       "      <td>0.0</td>\n",
       "      <td>0.0</td>\n",
       "      <td>0.0</td>\n",
       "      <td>0.0</td>\n",
       "      <td>0.0</td>\n",
       "      <td>0.0</td>\n",
       "      <td>0.0</td>\n",
       "      <td>0.0</td>\n",
       "    </tr>\n",
       "    <tr>\n",
       "      <th>146867</th>\n",
       "      <td>0.574661</td>\n",
       "      <td>3.003217</td>\n",
       "      <td>3.009904</td>\n",
       "      <td>3.039379</td>\n",
       "      <td>-0.079237</td>\n",
       "      <td>-0.030836</td>\n",
       "      <td>-0.078827</td>\n",
       "      <td>-0.161852</td>\n",
       "      <td>-0.757951</td>\n",
       "      <td>-0.819646</td>\n",
       "      <td>...</td>\n",
       "      <td>0.0</td>\n",
       "      <td>0.0</td>\n",
       "      <td>0.0</td>\n",
       "      <td>0.0</td>\n",
       "      <td>0.0</td>\n",
       "      <td>0.0</td>\n",
       "      <td>0.0</td>\n",
       "      <td>0.0</td>\n",
       "      <td>0.0</td>\n",
       "      <td>0.0</td>\n",
       "    </tr>\n",
       "    <tr>\n",
       "      <th>121958</th>\n",
       "      <td>0.183827</td>\n",
       "      <td>-0.640843</td>\n",
       "      <td>-0.629017</td>\n",
       "      <td>-0.633670</td>\n",
       "      <td>0.042463</td>\n",
       "      <td>-0.027718</td>\n",
       "      <td>0.050573</td>\n",
       "      <td>0.226929</td>\n",
       "      <td>0.146611</td>\n",
       "      <td>-0.118561</td>\n",
       "      <td>...</td>\n",
       "      <td>0.0</td>\n",
       "      <td>0.0</td>\n",
       "      <td>0.0</td>\n",
       "      <td>0.0</td>\n",
       "      <td>0.0</td>\n",
       "      <td>0.0</td>\n",
       "      <td>0.0</td>\n",
       "      <td>0.0</td>\n",
       "      <td>0.0</td>\n",
       "      <td>0.0</td>\n",
       "    </tr>\n",
       "  </tbody>\n",
       "</table>\n",
       "<p>165555 rows × 983 columns</p>\n",
       "</div>"
      ],
      "text/plain": [
       "        OBJECTID  CBSA_POP  CBSA_EMP  CBSA_WRK  Ac_Total  Ac_Water   Ac_Land  \\\n",
       "162938  0.826823  3.003217  3.009904  3.039379 -0.079893 -0.030836 -0.079528   \n",
       "25426  -1.330805  0.202831  0.129502  0.133622 -0.056064 -0.029736 -0.054283   \n",
       "131964  0.340826 -0.690861 -0.678834 -0.680828  0.517257  0.045003  0.544007   \n",
       "199794  1.405111 -0.686036 -0.674233 -0.680630  0.130399 -0.027758  0.144505   \n",
       "200487  1.415985 -0.585300 -0.580691 -0.586108 -0.079080 -0.030836 -0.078659   \n",
       "...          ...       ...       ...       ...       ...       ...       ...   \n",
       "119879  0.151207 -0.489208 -0.446815 -0.473697 -0.077341 -0.030789 -0.076811   \n",
       "103694 -0.102743 -0.684844 -0.675425 -0.675412  0.274086  0.040535  0.285119   \n",
       "131932  0.340324 -0.154384 -0.131869 -0.125403 -0.069920 -0.030836 -0.068876   \n",
       "146867  0.574661  3.003217  3.009904  3.039379 -0.079237 -0.030836 -0.078827   \n",
       "121958  0.183827 -0.640843 -0.629017 -0.633670  0.042463 -0.027718  0.050573   \n",
       "\n",
       "         Ac_Unpr    TotPop   CountHU  ...  CBSA_Name_Worthington, MN  \\\n",
       "162938 -0.164016  0.033541  0.548389  ...                        0.0   \n",
       "25426  -0.124140  1.274285  2.528233  ...                        0.0   \n",
       "131964  1.336929 -0.729684  0.519505  ...                        0.0   \n",
       "199794  0.504475  0.279872  0.285810  ...                        0.0   \n",
       "200487 -0.161333 -0.348072 -0.780260  ...                        0.0   \n",
       "...          ...       ...       ...  ...                        ...   \n",
       "119879 -0.155630  1.067326  0.587776  ...                        0.0   \n",
       "103694  0.961541 -0.162313  0.375087  ...                        0.0   \n",
       "131932 -0.131136  3.137925  3.218815  ...                        0.0   \n",
       "146867 -0.161852 -0.757951 -0.819646  ...                        0.0   \n",
       "121958  0.226929  0.146611 -0.118561  ...                        0.0   \n",
       "\n",
       "        CBSA_Name_Yakima, WA  CBSA_Name_Yankton, SD  CBSA_Name_Yauco, PR  \\\n",
       "162938                   0.0                    0.0                  0.0   \n",
       "25426                    0.0                    0.0                  0.0   \n",
       "131964                   0.0                    0.0                  0.0   \n",
       "199794                   0.0                    0.0                  0.0   \n",
       "200487                   0.0                    0.0                  0.0   \n",
       "...                      ...                    ...                  ...   \n",
       "119879                   0.0                    0.0                  0.0   \n",
       "103694                   0.0                    0.0                  0.0   \n",
       "131932                   0.0                    0.0                  0.0   \n",
       "146867                   0.0                    0.0                  0.0   \n",
       "121958                   0.0                    0.0                  0.0   \n",
       "\n",
       "        CBSA_Name_York-Hanover, PA  \\\n",
       "162938                         0.0   \n",
       "25426                          0.0   \n",
       "131964                         0.0   \n",
       "199794                         0.0   \n",
       "200487                         0.0   \n",
       "...                            ...   \n",
       "119879                         0.0   \n",
       "103694                         0.0   \n",
       "131932                         0.0   \n",
       "146867                         0.0   \n",
       "121958                         0.0   \n",
       "\n",
       "        CBSA_Name_Youngstown-Warren-Boardman, OH-PA  CBSA_Name_Yuba City, CA  \\\n",
       "162938                                          0.0                      0.0   \n",
       "25426                                           0.0                      0.0   \n",
       "131964                                          0.0                      0.0   \n",
       "199794                                          0.0                      0.0   \n",
       "200487                                          0.0                      0.0   \n",
       "...                                             ...                      ...   \n",
       "119879                                          0.0                      0.0   \n",
       "103694                                          0.0                      0.0   \n",
       "131932                                          0.0                      0.0   \n",
       "146867                                          0.0                      0.0   \n",
       "121958                                          0.0                      0.0   \n",
       "\n",
       "        CBSA_Name_Yuma, AZ  CBSA_Name_Zanesville, OH  CBSA_Name_Zapata, TX  \n",
       "162938                 0.0                       0.0                   0.0  \n",
       "25426                  0.0                       0.0                   0.0  \n",
       "131964                 0.0                       0.0                   0.0  \n",
       "199794                 0.0                       0.0                   0.0  \n",
       "200487                 0.0                       0.0                   0.0  \n",
       "...                    ...                       ...                   ...  \n",
       "119879                 0.0                       0.0                   0.0  \n",
       "103694                 0.0                       0.0                   0.0  \n",
       "131932                 0.0                       0.0                   0.0  \n",
       "146867                 0.0                       0.0                   0.0  \n",
       "121958                 0.0                       0.0                   0.0  \n",
       "\n",
       "[165555 rows x 983 columns]"
      ]
     },
     "execution_count": 22,
     "metadata": {},
     "output_type": "execute_result"
    }
   ],
   "source": [
    "X_train_processed"
   ]
  },
  {
   "cell_type": "code",
   "execution_count": 23,
   "metadata": {},
   "outputs": [
    {
     "data": {
      "text/plain": [
       "162938    1\n",
       "25426     0\n",
       "131964    0\n",
       "199794    0\n",
       "200487    1\n",
       "         ..\n",
       "119879    1\n",
       "103694    0\n",
       "131932    0\n",
       "146867    1\n",
       "121958    0\n",
       "Name: NatWalkInd, Length: 165555, dtype: int64"
      ]
     },
     "execution_count": 23,
     "metadata": {},
     "output_type": "execute_result"
    }
   ],
   "source": [
    "y_train"
   ]
  },
  {
   "cell_type": "markdown",
   "metadata": {},
   "source": [
    "## Logistic Regression without PCA"
   ]
  },
  {
   "cell_type": "code",
   "execution_count": 24,
   "metadata": {},
   "outputs": [],
   "source": [
    "#import classifier Machine Learning Libraries\n",
    "from sklearn.linear_model import LogisticRegression\n",
    "\n",
    "import sklearn.metrics as metrics"
   ]
  },
  {
   "cell_type": "code",
   "execution_count": 25,
   "metadata": {},
   "outputs": [],
   "source": [
    "def get_performance(actual_Y, pred_Y): # defining performance of logistic reg\n",
    "    cm = confusion_matrix(actual_Y, pred_Y)\n",
    "    total = sum(sum(cm))\n",
    "    accuracy = (cm[0,0]+cm[1,1])/total\n",
    "    sensitivity = cm[0,0]/(cm[0,0]+cm[0,1])\n",
    "    specificity = cm[1,1]/(cm[1,0]+cm[1,1])\n",
    "    return accuracy, sensitivity, specificity"
   ]
  },
  {
   "cell_type": "markdown",
   "metadata": {},
   "source": [
    "### Using liblinear solver which works well for smaller datasets and good to start with"
   ]
  },
  {
   "cell_type": "code",
   "execution_count": 26,
   "metadata": {
    "colab": {
     "base_uri": "https://localhost:8080/",
     "height": 72
    },
    "executionInfo": {
     "elapsed": 1443,
     "status": "ok",
     "timestamp": 1680912446579,
     "user": {
      "displayName": "Chastity Benton",
      "userId": "02800610617621087993"
     },
     "user_tz": 240
    },
    "id": "pRrPj1Nq_Hkh",
    "outputId": "5a6214b0-2c08-4857-bca7-92a0786f660f"
   },
   "outputs": [
    {
     "data": {
      "text/html": [
       "<style>#sk-container-id-3 {color: black;background-color: white;}#sk-container-id-3 pre{padding: 0;}#sk-container-id-3 div.sk-toggleable {background-color: white;}#sk-container-id-3 label.sk-toggleable__label {cursor: pointer;display: block;width: 100%;margin-bottom: 0;padding: 0.3em;box-sizing: border-box;text-align: center;}#sk-container-id-3 label.sk-toggleable__label-arrow:before {content: \"▸\";float: left;margin-right: 0.25em;color: #696969;}#sk-container-id-3 label.sk-toggleable__label-arrow:hover:before {color: black;}#sk-container-id-3 div.sk-estimator:hover label.sk-toggleable__label-arrow:before {color: black;}#sk-container-id-3 div.sk-toggleable__content {max-height: 0;max-width: 0;overflow: hidden;text-align: left;background-color: #f0f8ff;}#sk-container-id-3 div.sk-toggleable__content pre {margin: 0.2em;color: black;border-radius: 0.25em;background-color: #f0f8ff;}#sk-container-id-3 input.sk-toggleable__control:checked~div.sk-toggleable__content {max-height: 200px;max-width: 100%;overflow: auto;}#sk-container-id-3 input.sk-toggleable__control:checked~label.sk-toggleable__label-arrow:before {content: \"▾\";}#sk-container-id-3 div.sk-estimator input.sk-toggleable__control:checked~label.sk-toggleable__label {background-color: #d4ebff;}#sk-container-id-3 div.sk-label input.sk-toggleable__control:checked~label.sk-toggleable__label {background-color: #d4ebff;}#sk-container-id-3 input.sk-hidden--visually {border: 0;clip: rect(1px 1px 1px 1px);clip: rect(1px, 1px, 1px, 1px);height: 1px;margin: -1px;overflow: hidden;padding: 0;position: absolute;width: 1px;}#sk-container-id-3 div.sk-estimator {font-family: monospace;background-color: #f0f8ff;border: 1px dotted black;border-radius: 0.25em;box-sizing: border-box;margin-bottom: 0.5em;}#sk-container-id-3 div.sk-estimator:hover {background-color: #d4ebff;}#sk-container-id-3 div.sk-parallel-item::after {content: \"\";width: 100%;border-bottom: 1px solid gray;flex-grow: 1;}#sk-container-id-3 div.sk-label:hover label.sk-toggleable__label {background-color: #d4ebff;}#sk-container-id-3 div.sk-serial::before {content: \"\";position: absolute;border-left: 1px solid gray;box-sizing: border-box;top: 0;bottom: 0;left: 50%;z-index: 0;}#sk-container-id-3 div.sk-serial {display: flex;flex-direction: column;align-items: center;background-color: white;padding-right: 0.2em;padding-left: 0.2em;position: relative;}#sk-container-id-3 div.sk-item {position: relative;z-index: 1;}#sk-container-id-3 div.sk-parallel {display: flex;align-items: stretch;justify-content: center;background-color: white;position: relative;}#sk-container-id-3 div.sk-item::before, #sk-container-id-3 div.sk-parallel-item::before {content: \"\";position: absolute;border-left: 1px solid gray;box-sizing: border-box;top: 0;bottom: 0;left: 50%;z-index: -1;}#sk-container-id-3 div.sk-parallel-item {display: flex;flex-direction: column;z-index: 1;position: relative;background-color: white;}#sk-container-id-3 div.sk-parallel-item:first-child::after {align-self: flex-end;width: 50%;}#sk-container-id-3 div.sk-parallel-item:last-child::after {align-self: flex-start;width: 50%;}#sk-container-id-3 div.sk-parallel-item:only-child::after {width: 0;}#sk-container-id-3 div.sk-dashed-wrapped {border: 1px dashed gray;margin: 0 0.4em 0.5em 0.4em;box-sizing: border-box;padding-bottom: 0.4em;background-color: white;}#sk-container-id-3 div.sk-label label {font-family: monospace;font-weight: bold;display: inline-block;line-height: 1.2em;}#sk-container-id-3 div.sk-label-container {text-align: center;}#sk-container-id-3 div.sk-container {/* jupyter's `normalize.less` sets `[hidden] { display: none; }` but bootstrap.min.css set `[hidden] { display: none !important; }` so we also need the `!important` here to be able to override the default hidden behavior on the sphinx rendered scikit-learn.org. See: https://github.com/scikit-learn/scikit-learn/issues/21755 */display: inline-block !important;position: relative;}#sk-container-id-3 div.sk-text-repr-fallback {display: none;}</style><div id=\"sk-container-id-3\" class=\"sk-top-container\"><div class=\"sk-text-repr-fallback\"><pre>LogisticRegression(max_iter=200, solver=&#x27;liblinear&#x27;)</pre><b>In a Jupyter environment, please rerun this cell to show the HTML representation or trust the notebook. <br />On GitHub, the HTML representation is unable to render, please try loading this page with nbviewer.org.</b></div><div class=\"sk-container\" hidden><div class=\"sk-item\"><div class=\"sk-estimator sk-toggleable\"><input class=\"sk-toggleable__control sk-hidden--visually\" id=\"sk-estimator-id-7\" type=\"checkbox\" checked><label for=\"sk-estimator-id-7\" class=\"sk-toggleable__label sk-toggleable__label-arrow\">LogisticRegression</label><div class=\"sk-toggleable__content\"><pre>LogisticRegression(max_iter=200, solver=&#x27;liblinear&#x27;)</pre></div></div></div></div></div>"
      ],
      "text/plain": [
       "LogisticRegression(max_iter=200, solver='liblinear')"
      ]
     },
     "execution_count": 26,
     "metadata": {},
     "output_type": "execute_result"
    }
   ],
   "source": [
    "#instantiate the model\n",
    "LL = LogisticRegression(solver='liblinear',max_iter=200) # liblinear solver works well for smaller datasets \n",
    "\n",
    "#fit \n",
    "LL.fit(X_train_processed, y_train)"
   ]
  },
  {
   "cell_type": "code",
   "execution_count": 27,
   "metadata": {},
   "outputs": [],
   "source": [
    "pred_y_test=LL.predict(X_test_processed)"
   ]
  },
  {
   "cell_type": "code",
   "execution_count": 28,
   "metadata": {},
   "outputs": [],
   "source": [
    "from sklearn.metrics import r2_score\n"
   ]
  },
  {
   "cell_type": "code",
   "execution_count": 29,
   "metadata": {},
   "outputs": [],
   "source": [
    "pseudo_r2_train = 1 - (LL.score(X_train_processed, y_train) / np.log(y_train.shape[0])) #  McFadden's pseudo R-squared\n",
    "# for the train data"
   ]
  },
  {
   "cell_type": "code",
   "execution_count": 30,
   "metadata": {},
   "outputs": [],
   "source": [
    "pseudo_r2_test = 1 - (LL.score(X_test_processed, y_test) / np.log(y_test.shape[0])) #  McFadden's pseudo R-squared\n",
    "# for the test data"
   ]
  },
  {
   "cell_type": "code",
   "execution_count": 31,
   "metadata": {},
   "outputs": [
    {
     "name": "stdout",
     "output_type": "stream",
     "text": [
      "Before PCA with liblinear solver pseudo R squared train data:\n",
      "0.9221406216370864\n",
      "--------------------------------------------------------------------------------\n",
      "Before PCA with liblinear solver pseudo R squared test data:\n",
      "0.9143119559644434\n",
      "--------------------------------------------------------------------------------\n"
     ]
    }
   ],
   "source": [
    "print('Before PCA with liblinear solver pseudo R squared train data:')\n",
    "print(pseudo_r2_train )\n",
    "print('-' * 80)\n",
    "print('Before PCA with liblinear solver pseudo R squared test data:')\n",
    "print(pseudo_r2_test)\n",
    "print('-' * 80)\n"
   ]
  },
  {
   "cell_type": "code",
   "execution_count": 32,
   "metadata": {},
   "outputs": [],
   "source": [
    "accuracy_ll, sensitivity_ll, specificity_ll = get_performance(y_test, pred_y_test)\n"
   ]
  },
  {
   "cell_type": "code",
   "execution_count": 33,
   "metadata": {},
   "outputs": [
    {
     "data": {
      "text/html": [
       "<div>\n",
       "<style scoped>\n",
       "    .dataframe tbody tr th:only-of-type {\n",
       "        vertical-align: middle;\n",
       "    }\n",
       "\n",
       "    .dataframe tbody tr th {\n",
       "        vertical-align: top;\n",
       "    }\n",
       "\n",
       "    .dataframe thead th {\n",
       "        text-align: right;\n",
       "    }\n",
       "</style>\n",
       "<table border=\"1\" class=\"dataframe\">\n",
       "  <thead>\n",
       "    <tr style=\"text-align: right;\">\n",
       "      <th></th>\n",
       "      <th>accuracy</th>\n",
       "      <th>sensitivity</th>\n",
       "      <th>specificity</th>\n",
       "    </tr>\n",
       "  </thead>\n",
       "  <tbody>\n",
       "    <tr>\n",
       "      <th>Logistic Regression</th>\n",
       "      <td>0.93558</td>\n",
       "      <td>0.930363</td>\n",
       "      <td>0.942748</td>\n",
       "    </tr>\n",
       "  </tbody>\n",
       "</table>\n",
       "</div>"
      ],
      "text/plain": [
       "                     accuracy  sensitivity  specificity\n",
       "Logistic Regression   0.93558     0.930363     0.942748"
      ]
     },
     "execution_count": 33,
     "metadata": {},
     "output_type": "execute_result"
    }
   ],
   "source": [
    "perf1 = pd.DataFrame([accuracy_ll], \n",
    "                    columns = ['accuracy'], \n",
    "                    index = ['Logistic Regression'])\n",
    "\n",
    "perf1['sensitivity'] = np.asarray([sensitivity_ll])\n",
    "\n",
    "perf1['specificity'] = np.asarray([specificity_ll])\n",
    "\n",
    "perf1 # our main performance indicators for the logistic reg look good"
   ]
  },
  {
   "cell_type": "code",
   "execution_count": 34,
   "metadata": {
    "colab": {
     "base_uri": "https://localhost:8080/",
     "height": 590
    },
    "executionInfo": {
     "elapsed": 1610990,
     "status": "ok",
     "timestamp": 1680914061596,
     "user": {
      "displayName": "Chastity Benton",
      "userId": "02800610617621087993"
     },
     "user_tz": 240
    },
    "id": "O04N94BbFI0o",
    "outputId": "8c68288f-8ce6-4ab5-dd78-16484bc01110"
   },
   "outputs": [
    {
     "data": {
      "image/png": "[encoded data removed]",
      "text/plain": [
       "<Figure size 640x480 with 1 Axes>"
      ]
     },
     "metadata": {},
     "output_type": "display_data"
    }
   ],
   "source": [
    "from sklearn.metrics import roc_curve, auc\n",
    "score_Y_dt = LL.predict_proba(X_test_processed) # probability\n",
    "fpr, tpr, _ = roc_curve(y_test, score_Y_dt[:,1])\n",
    "roc_auc = auc(fpr, tpr)\n",
    "\n",
    "plt.figure()\n",
    "lw = 2\n",
    "plt.plot(fpr, tpr, color='darkorange',lw=lw, label='ROC curve (area = %0.2f)' % roc_auc)\n",
    "plt.plot([0, 1], [0, 1], color='navy', lw=lw, linestyle='--')\n",
    "plt.xlim([0.0, 1.0])\n",
    "plt.ylim([0.0, 1.05])\n",
    "plt.xlabel('False Positive Rate')\n",
    "plt.ylabel('True Positive Rate')\n",
    "plt.title('Receiver operating characteristic example')\n",
    "plt.legend(loc=\"lower right\")\n",
    "plt.show()"
   ]
  },
  {
   "cell_type": "markdown",
   "metadata": {
    "colab": {
     "base_uri": "https://localhost:8080/",
     "height": 590
    },
    "executionInfo": {
     "elapsed": 531421,
     "status": "ok",
     "timestamp": 1680915666212,
     "user": {
      "displayName": "Chastity Benton",
      "userId": "02800610617621087993"
     },
     "user_tz": 240
    },
    "id": "TVDn6xQoFSnR",
    "outputId": "23d969e2-e33f-4943-d2ee-f0c979844dd8"
   },
   "source": [
    "### Using lbfgs solver which works well for large datasets but it did not converge in our data"
   ]
  },
  {
   "cell_type": "code",
   "execution_count": null,
   "metadata": {
    "colab": {
     "base_uri": "https://localhost:8080/",
     "height": 72
    },
    "executionInfo": {
     "elapsed": 1443,
     "status": "ok",
     "timestamp": 1680912446579,
     "user": {
      "displayName": "Chastity Benton",
      "userId": "02800610617621087993"
     },
     "user_tz": 240
    },
    "id": "pRrPj1Nq_Hkh",
    "outputId": "5a6214b0-2c08-4857-bca7-92a0786f660f"
   },
   "outputs": [],
   "source": [
    "#instantiate the model\n",
    "LL = LogisticRegression(solver='lbfgs',max_iter=200) # this did not converge\n",
    "# should we mention it in the report? \n",
    "\n",
    "#fit \n",
    "LL.fit(X_train_processed, y_train)"
   ]
  },
  {
   "cell_type": "markdown",
   "metadata": {},
   "source": [
    "## Logistic Regression with PCA"
   ]
  },
  {
   "cell_type": "markdown",
   "metadata": {},
   "source": [
    "### liblinear solver"
   ]
  },
  {
   "cell_type": "code",
   "execution_count": 35,
   "metadata": {},
   "outputs": [],
   "source": [
    "from sklearn.decomposition import PCA"
   ]
  },
  {
   "cell_type": "code",
   "execution_count": 36,
   "metadata": {},
   "outputs": [
    {
     "data": {
      "text/html": [
       "<style>#sk-container-id-4 {color: black;background-color: white;}#sk-container-id-4 pre{padding: 0;}#sk-container-id-4 div.sk-toggleable {background-color: white;}#sk-container-id-4 label.sk-toggleable__label {cursor: pointer;display: block;width: 100%;margin-bottom: 0;padding: 0.3em;box-sizing: border-box;text-align: center;}#sk-container-id-4 label.sk-toggleable__label-arrow:before {content: \"▸\";float: left;margin-right: 0.25em;color: #696969;}#sk-container-id-4 label.sk-toggleable__label-arrow:hover:before {color: black;}#sk-container-id-4 div.sk-estimator:hover label.sk-toggleable__label-arrow:before {color: black;}#sk-container-id-4 div.sk-toggleable__content {max-height: 0;max-width: 0;overflow: hidden;text-align: left;background-color: #f0f8ff;}#sk-container-id-4 div.sk-toggleable__content pre {margin: 0.2em;color: black;border-radius: 0.25em;background-color: #f0f8ff;}#sk-container-id-4 input.sk-toggleable__control:checked~div.sk-toggleable__content {max-height: 200px;max-width: 100%;overflow: auto;}#sk-container-id-4 input.sk-toggleable__control:checked~label.sk-toggleable__label-arrow:before {content: \"▾\";}#sk-container-id-4 div.sk-estimator input.sk-toggleable__control:checked~label.sk-toggleable__label {background-color: #d4ebff;}#sk-container-id-4 div.sk-label input.sk-toggleable__control:checked~label.sk-toggleable__label {background-color: #d4ebff;}#sk-container-id-4 input.sk-hidden--visually {border: 0;clip: rect(1px 1px 1px 1px);clip: rect(1px, 1px, 1px, 1px);height: 1px;margin: -1px;overflow: hidden;padding: 0;position: absolute;width: 1px;}#sk-container-id-4 div.sk-estimator {font-family: monospace;background-color: #f0f8ff;border: 1px dotted black;border-radius: 0.25em;box-sizing: border-box;margin-bottom: 0.5em;}#sk-container-id-4 div.sk-estimator:hover {background-color: #d4ebff;}#sk-container-id-4 div.sk-parallel-item::after {content: \"\";width: 100%;border-bottom: 1px solid gray;flex-grow: 1;}#sk-container-id-4 div.sk-label:hover label.sk-toggleable__label {background-color: #d4ebff;}#sk-container-id-4 div.sk-serial::before {content: \"\";position: absolute;border-left: 1px solid gray;box-sizing: border-box;top: 0;bottom: 0;left: 50%;z-index: 0;}#sk-container-id-4 div.sk-serial {display: flex;flex-direction: column;align-items: center;background-color: white;padding-right: 0.2em;padding-left: 0.2em;position: relative;}#sk-container-id-4 div.sk-item {position: relative;z-index: 1;}#sk-container-id-4 div.sk-parallel {display: flex;align-items: stretch;justify-content: center;background-color: white;position: relative;}#sk-container-id-4 div.sk-item::before, #sk-container-id-4 div.sk-parallel-item::before {content: \"\";position: absolute;border-left: 1px solid gray;box-sizing: border-box;top: 0;bottom: 0;left: 50%;z-index: -1;}#sk-container-id-4 div.sk-parallel-item {display: flex;flex-direction: column;z-index: 1;position: relative;background-color: white;}#sk-container-id-4 div.sk-parallel-item:first-child::after {align-self: flex-end;width: 50%;}#sk-container-id-4 div.sk-parallel-item:last-child::after {align-self: flex-start;width: 50%;}#sk-container-id-4 div.sk-parallel-item:only-child::after {width: 0;}#sk-container-id-4 div.sk-dashed-wrapped {border: 1px dashed gray;margin: 0 0.4em 0.5em 0.4em;box-sizing: border-box;padding-bottom: 0.4em;background-color: white;}#sk-container-id-4 div.sk-label label {font-family: monospace;font-weight: bold;display: inline-block;line-height: 1.2em;}#sk-container-id-4 div.sk-label-container {text-align: center;}#sk-container-id-4 div.sk-container {/* jupyter's `normalize.less` sets `[hidden] { display: none; }` but bootstrap.min.css set `[hidden] { display: none !important; }` so we also need the `!important` here to be able to override the default hidden behavior on the sphinx rendered scikit-learn.org. See: https://github.com/scikit-learn/scikit-learn/issues/21755 */display: inline-block !important;position: relative;}#sk-container-id-4 div.sk-text-repr-fallback {display: none;}</style><div id=\"sk-container-id-4\" class=\"sk-top-container\"><div class=\"sk-text-repr-fallback\"><pre>PCA(n_components=0.9)</pre><b>In a Jupyter environment, please rerun this cell to show the HTML representation or trust the notebook. <br />On GitHub, the HTML representation is unable to render, please try loading this page with nbviewer.org.</b></div><div class=\"sk-container\" hidden><div class=\"sk-item\"><div class=\"sk-estimator sk-toggleable\"><input class=\"sk-toggleable__control sk-hidden--visually\" id=\"sk-estimator-id-8\" type=\"checkbox\" checked><label for=\"sk-estimator-id-8\" class=\"sk-toggleable__label sk-toggleable__label-arrow\">PCA</label><div class=\"sk-toggleable__content\"><pre>PCA(n_components=0.9)</pre></div></div></div></div></div>"
      ],
      "text/plain": [
       "PCA(n_components=0.9)"
      ]
     },
     "execution_count": 36,
     "metadata": {},
     "output_type": "execute_result"
    }
   ],
   "source": [
    "#fit data for pca\n",
    "pca = PCA(n_components = 0.9) # keeping 90% variance\n",
    "X_train_pca = pca.fit_transform(X_train_processed)\n",
    "X_test_pca = pca.transform(X_test_processed)\n",
    "\n",
    "pca.fit(X_train_pca)\n",
    "\n",
    "# Here I use PCA for feature selection\n",
    "# I will use the selected principal components as the reduced set of features for the logistic regression model."
   ]
  },
  {
   "cell_type": "code",
   "execution_count": 37,
   "metadata": {
    "colab": {
     "base_uri": "https://localhost:8080/",
     "height": 72
    },
    "executionInfo": {
     "elapsed": 1443,
     "status": "ok",
     "timestamp": 1680912446579,
     "user": {
      "displayName": "Chastity Benton",
      "userId": "02800610617621087993"
     },
     "user_tz": 240
    },
    "id": "pRrPj1Nq_Hkh",
    "outputId": "5a6214b0-2c08-4857-bca7-92a0786f660f"
   },
   "outputs": [
    {
     "data": {
      "text/html": [
       "<style>#sk-container-id-5 {color: black;background-color: white;}#sk-container-id-5 pre{padding: 0;}#sk-container-id-5 div.sk-toggleable {background-color: white;}#sk-container-id-5 label.sk-toggleable__label {cursor: pointer;display: block;width: 100%;margin-bottom: 0;padding: 0.3em;box-sizing: border-box;text-align: center;}#sk-container-id-5 label.sk-toggleable__label-arrow:before {content: \"▸\";float: left;margin-right: 0.25em;color: #696969;}#sk-container-id-5 label.sk-toggleable__label-arrow:hover:before {color: black;}#sk-container-id-5 div.sk-estimator:hover label.sk-toggleable__label-arrow:before {color: black;}#sk-container-id-5 div.sk-toggleable__content {max-height: 0;max-width: 0;overflow: hidden;text-align: left;background-color: #f0f8ff;}#sk-container-id-5 div.sk-toggleable__content pre {margin: 0.2em;color: black;border-radius: 0.25em;background-color: #f0f8ff;}#sk-container-id-5 input.sk-toggleable__control:checked~div.sk-toggleable__content {max-height: 200px;max-width: 100%;overflow: auto;}#sk-container-id-5 input.sk-toggleable__control:checked~label.sk-toggleable__label-arrow:before {content: \"▾\";}#sk-container-id-5 div.sk-estimator input.sk-toggleable__control:checked~label.sk-toggleable__label {background-color: #d4ebff;}#sk-container-id-5 div.sk-label input.sk-toggleable__control:checked~label.sk-toggleable__label {background-color: #d4ebff;}#sk-container-id-5 input.sk-hidden--visually {border: 0;clip: rect(1px 1px 1px 1px);clip: rect(1px, 1px, 1px, 1px);height: 1px;margin: -1px;overflow: hidden;padding: 0;position: absolute;width: 1px;}#sk-container-id-5 div.sk-estimator {font-family: monospace;background-color: #f0f8ff;border: 1px dotted black;border-radius: 0.25em;box-sizing: border-box;margin-bottom: 0.5em;}#sk-container-id-5 div.sk-estimator:hover {background-color: #d4ebff;}#sk-container-id-5 div.sk-parallel-item::after {content: \"\";width: 100%;border-bottom: 1px solid gray;flex-grow: 1;}#sk-container-id-5 div.sk-label:hover label.sk-toggleable__label {background-color: #d4ebff;}#sk-container-id-5 div.sk-serial::before {content: \"\";position: absolute;border-left: 1px solid gray;box-sizing: border-box;top: 0;bottom: 0;left: 50%;z-index: 0;}#sk-container-id-5 div.sk-serial {display: flex;flex-direction: column;align-items: center;background-color: white;padding-right: 0.2em;padding-left: 0.2em;position: relative;}#sk-container-id-5 div.sk-item {position: relative;z-index: 1;}#sk-container-id-5 div.sk-parallel {display: flex;align-items: stretch;justify-content: center;background-color: white;position: relative;}#sk-container-id-5 div.sk-item::before, #sk-container-id-5 div.sk-parallel-item::before {content: \"\";position: absolute;border-left: 1px solid gray;box-sizing: border-box;top: 0;bottom: 0;left: 50%;z-index: -1;}#sk-container-id-5 div.sk-parallel-item {display: flex;flex-direction: column;z-index: 1;position: relative;background-color: white;}#sk-container-id-5 div.sk-parallel-item:first-child::after {align-self: flex-end;width: 50%;}#sk-container-id-5 div.sk-parallel-item:last-child::after {align-self: flex-start;width: 50%;}#sk-container-id-5 div.sk-parallel-item:only-child::after {width: 0;}#sk-container-id-5 div.sk-dashed-wrapped {border: 1px dashed gray;margin: 0 0.4em 0.5em 0.4em;box-sizing: border-box;padding-bottom: 0.4em;background-color: white;}#sk-container-id-5 div.sk-label label {font-family: monospace;font-weight: bold;display: inline-block;line-height: 1.2em;}#sk-container-id-5 div.sk-label-container {text-align: center;}#sk-container-id-5 div.sk-container {/* jupyter's `normalize.less` sets `[hidden] { display: none; }` but bootstrap.min.css set `[hidden] { display: none !important; }` so we also need the `!important` here to be able to override the default hidden behavior on the sphinx rendered scikit-learn.org. See: https://github.com/scikit-learn/scikit-learn/issues/21755 */display: inline-block !important;position: relative;}#sk-container-id-5 div.sk-text-repr-fallback {display: none;}</style><div id=\"sk-container-id-5\" class=\"sk-top-container\"><div class=\"sk-text-repr-fallback\"><pre>LogisticRegression(max_iter=200, solver=&#x27;liblinear&#x27;)</pre><b>In a Jupyter environment, please rerun this cell to show the HTML representation or trust the notebook. <br />On GitHub, the HTML representation is unable to render, please try loading this page with nbviewer.org.</b></div><div class=\"sk-container\" hidden><div class=\"sk-item\"><div class=\"sk-estimator sk-toggleable\"><input class=\"sk-toggleable__control sk-hidden--visually\" id=\"sk-estimator-id-9\" type=\"checkbox\" checked><label for=\"sk-estimator-id-9\" class=\"sk-toggleable__label sk-toggleable__label-arrow\">LogisticRegression</label><div class=\"sk-toggleable__content\"><pre>LogisticRegression(max_iter=200, solver=&#x27;liblinear&#x27;)</pre></div></div></div></div></div>"
      ],
      "text/plain": [
       "LogisticRegression(max_iter=200, solver='liblinear')"
      ]
     },
     "execution_count": 37,
     "metadata": {},
     "output_type": "execute_result"
    }
   ],
   "source": [
    "#instantiate the model\n",
    "LL = LogisticRegression(solver='liblinear',max_iter=200) # liblinear solver works well for smaller datasets \n",
    "\n",
    "#fit \n",
    "LL.fit(X_train_pca, y_train)"
   ]
  },
  {
   "cell_type": "code",
   "execution_count": 38,
   "metadata": {},
   "outputs": [],
   "source": [
    "pred_y_test=LL.predict(X_test_pca)"
   ]
  },
  {
   "cell_type": "code",
   "execution_count": 39,
   "metadata": {},
   "outputs": [],
   "source": [
    "pseudo_r2_train = 1 - (LL.score(X_train_pca, y_train) / np.log(y_train.shape[0])) #  McFadden's pseudo R-squared\n",
    "pseudo_r2_test = 1 - (LL.score(X_test_pca, y_test) / np.log(y_test.shape[0])) #  McFadden's pseudo R-squared\n"
   ]
  },
  {
   "cell_type": "code",
   "execution_count": 40,
   "metadata": {},
   "outputs": [
    {
     "name": "stdout",
     "output_type": "stream",
     "text": [
      "After PCA with liblinear solver pseudo R squared train data:\n",
      "0.9228815172065308\n",
      "--------------------------------------------------------------------------------\n",
      "After PCA with liblinear solver pseudo R squared test data:\n",
      "0.9151152295130238\n",
      "--------------------------------------------------------------------------------\n"
     ]
    }
   ],
   "source": [
    "print('After PCA with liblinear solver pseudo R squared train data:')\n",
    "print(pseudo_r2_train )\n",
    "print('-' * 80)\n",
    "print('After PCA with liblinear solver pseudo R squared test data:')\n",
    "print(pseudo_r2_test)\n",
    "print('-' * 80)\n",
    "\n"
   ]
  },
  {
   "cell_type": "code",
   "execution_count": 41,
   "metadata": {},
   "outputs": [],
   "source": [
    "accuracy_ll, sensitivity_ll, specificity_ll = get_performance(y_test, pred_y_test)\n"
   ]
  },
  {
   "cell_type": "code",
   "execution_count": 42,
   "metadata": {},
   "outputs": [
    {
     "data": {
      "text/html": [
       "<div>\n",
       "<style scoped>\n",
       "    .dataframe tbody tr th:only-of-type {\n",
       "        vertical-align: middle;\n",
       "    }\n",
       "\n",
       "    .dataframe tbody tr th {\n",
       "        vertical-align: top;\n",
       "    }\n",
       "\n",
       "    .dataframe thead th {\n",
       "        text-align: right;\n",
       "    }\n",
       "</style>\n",
       "<table border=\"1\" class=\"dataframe\">\n",
       "  <thead>\n",
       "    <tr style=\"text-align: right;\">\n",
       "      <th></th>\n",
       "      <th>accuracy</th>\n",
       "      <th>sensitivity</th>\n",
       "      <th>specificity</th>\n",
       "    </tr>\n",
       "  </thead>\n",
       "  <tbody>\n",
       "    <tr>\n",
       "      <th>Logistic Regression</th>\n",
       "      <td>0.92681</td>\n",
       "      <td>0.930081</td>\n",
       "      <td>0.922316</td>\n",
       "    </tr>\n",
       "  </tbody>\n",
       "</table>\n",
       "</div>"
      ],
      "text/plain": [
       "                     accuracy  sensitivity  specificity\n",
       "Logistic Regression   0.92681     0.930081     0.922316"
      ]
     },
     "execution_count": 42,
     "metadata": {},
     "output_type": "execute_result"
    }
   ],
   "source": [
    "perf2 = pd.DataFrame([accuracy_ll], \n",
    "                    columns = ['accuracy'], \n",
    "                    index = ['Logistic Regression'])\n",
    "\n",
    "perf2['sensitivity'] = np.asarray([sensitivity_ll])\n",
    "\n",
    "perf2['specificity'] = np.asarray([specificity_ll])\n",
    "\n",
    "perf2 # this is worse than we had before, we can try different solver"
   ]
  },
  {
   "cell_type": "code",
   "execution_count": 43,
   "metadata": {
    "colab": {
     "base_uri": "https://localhost:8080/",
     "height": 590
    },
    "executionInfo": {
     "elapsed": 1610990,
     "status": "ok",
     "timestamp": 1680914061596,
     "user": {
      "displayName": "Chastity Benton",
      "userId": "02800610617621087993"
     },
     "user_tz": 240
    },
    "id": "O04N94BbFI0o",
    "outputId": "8c68288f-8ce6-4ab5-dd78-16484bc01110"
   },
   "outputs": [
    {
     "data": {
      "image/png": "[encoded data removed]",
      "text/plain": [
       "<Figure size 640x480 with 1 Axes>"
      ]
     },
     "metadata": {},
     "output_type": "display_data"
    }
   ],
   "source": [
    "from sklearn.metrics import roc_curve, auc\n",
    "score_Y_dt = LL.predict_proba(X_test_pca) # probability\n",
    "fpr, tpr, _ = roc_curve(y_test, score_Y_dt[:,1])\n",
    "roc_auc = auc(fpr, tpr)\n",
    "\n",
    "plt.figure()\n",
    "lw = 2\n",
    "plt.plot(fpr, tpr, color='darkorange',lw=lw, label='ROC curve (area = %0.2f)' % roc_auc)\n",
    "plt.plot([0, 1], [0, 1], color='navy', lw=lw, linestyle='--')\n",
    "plt.xlim([0.0, 1.0])\n",
    "plt.ylim([0.0, 1.05])\n",
    "plt.xlabel('False Positive Rate')\n",
    "plt.ylabel('True Positive Rate')\n",
    "plt.title('Receiver operating characteristic example')\n",
    "plt.legend(loc=\"lower right\")\n",
    "plt.show()"
   ]
  },
  {
   "cell_type": "code",
   "execution_count": 44,
   "metadata": {},
   "outputs": [
    {
     "name": "stdout",
     "output_type": "stream",
     "text": [
      "Before PCA:\n",
      "                     accuracy  sensitivity  specificity\n",
      "Logistic Regression   0.93558     0.930363     0.942748\n",
      "--------------------------------------------------------------------------------\n",
      "After PCA with liblinear solver:\n",
      "                     accuracy  sensitivity  specificity\n",
      "Logistic Regression   0.92681     0.930081     0.922316\n",
      "--------------------------------------------------------------------------------\n"
     ]
    }
   ],
   "source": [
    "print('Before PCA:')\n",
    "print(perf1)\n",
    "print('-' * 80)\n",
    "print('After PCA with liblinear solver:')\n",
    "print(perf2)\n",
    "print('-' * 80)\n"
   ]
  },
  {
   "cell_type": "markdown",
   "metadata": {},
   "source": [
    "### Using lbfsg solver - good for medium datasets"
   ]
  },
  {
   "cell_type": "code",
   "execution_count": 45,
   "metadata": {},
   "outputs": [],
   "source": [
    "from sklearn.decomposition import PCA"
   ]
  },
  {
   "cell_type": "code",
   "execution_count": 46,
   "metadata": {},
   "outputs": [
    {
     "data": {
      "text/html": [
       "<style>#sk-container-id-6 {color: black;background-color: white;}#sk-container-id-6 pre{padding: 0;}#sk-container-id-6 div.sk-toggleable {background-color: white;}#sk-container-id-6 label.sk-toggleable__label {cursor: pointer;display: block;width: 100%;margin-bottom: 0;padding: 0.3em;box-sizing: border-box;text-align: center;}#sk-container-id-6 label.sk-toggleable__label-arrow:before {content: \"▸\";float: left;margin-right: 0.25em;color: #696969;}#sk-container-id-6 label.sk-toggleable__label-arrow:hover:before {color: black;}#sk-container-id-6 div.sk-estimator:hover label.sk-toggleable__label-arrow:before {color: black;}#sk-container-id-6 div.sk-toggleable__content {max-height: 0;max-width: 0;overflow: hidden;text-align: left;background-color: #f0f8ff;}#sk-container-id-6 div.sk-toggleable__content pre {margin: 0.2em;color: black;border-radius: 0.25em;background-color: #f0f8ff;}#sk-container-id-6 input.sk-toggleable__control:checked~div.sk-toggleable__content {max-height: 200px;max-width: 100%;overflow: auto;}#sk-container-id-6 input.sk-toggleable__control:checked~label.sk-toggleable__label-arrow:before {content: \"▾\";}#sk-container-id-6 div.sk-estimator input.sk-toggleable__control:checked~label.sk-toggleable__label {background-color: #d4ebff;}#sk-container-id-6 div.sk-label input.sk-toggleable__control:checked~label.sk-toggleable__label {background-color: #d4ebff;}#sk-container-id-6 input.sk-hidden--visually {border: 0;clip: rect(1px 1px 1px 1px);clip: rect(1px, 1px, 1px, 1px);height: 1px;margin: -1px;overflow: hidden;padding: 0;position: absolute;width: 1px;}#sk-container-id-6 div.sk-estimator {font-family: monospace;background-color: #f0f8ff;border: 1px dotted black;border-radius: 0.25em;box-sizing: border-box;margin-bottom: 0.5em;}#sk-container-id-6 div.sk-estimator:hover {background-color: #d4ebff;}#sk-container-id-6 div.sk-parallel-item::after {content: \"\";width: 100%;border-bottom: 1px solid gray;flex-grow: 1;}#sk-container-id-6 div.sk-label:hover label.sk-toggleable__label {background-color: #d4ebff;}#sk-container-id-6 div.sk-serial::before {content: \"\";position: absolute;border-left: 1px solid gray;box-sizing: border-box;top: 0;bottom: 0;left: 50%;z-index: 0;}#sk-container-id-6 div.sk-serial {display: flex;flex-direction: column;align-items: center;background-color: white;padding-right: 0.2em;padding-left: 0.2em;position: relative;}#sk-container-id-6 div.sk-item {position: relative;z-index: 1;}#sk-container-id-6 div.sk-parallel {display: flex;align-items: stretch;justify-content: center;background-color: white;position: relative;}#sk-container-id-6 div.sk-item::before, #sk-container-id-6 div.sk-parallel-item::before {content: \"\";position: absolute;border-left: 1px solid gray;box-sizing: border-box;top: 0;bottom: 0;left: 50%;z-index: -1;}#sk-container-id-6 div.sk-parallel-item {display: flex;flex-direction: column;z-index: 1;position: relative;background-color: white;}#sk-container-id-6 div.sk-parallel-item:first-child::after {align-self: flex-end;width: 50%;}#sk-container-id-6 div.sk-parallel-item:last-child::after {align-self: flex-start;width: 50%;}#sk-container-id-6 div.sk-parallel-item:only-child::after {width: 0;}#sk-container-id-6 div.sk-dashed-wrapped {border: 1px dashed gray;margin: 0 0.4em 0.5em 0.4em;box-sizing: border-box;padding-bottom: 0.4em;background-color: white;}#sk-container-id-6 div.sk-label label {font-family: monospace;font-weight: bold;display: inline-block;line-height: 1.2em;}#sk-container-id-6 div.sk-label-container {text-align: center;}#sk-container-id-6 div.sk-container {/* jupyter's `normalize.less` sets `[hidden] { display: none; }` but bootstrap.min.css set `[hidden] { display: none !important; }` so we also need the `!important` here to be able to override the default hidden behavior on the sphinx rendered scikit-learn.org. See: https://github.com/scikit-learn/scikit-learn/issues/21755 */display: inline-block !important;position: relative;}#sk-container-id-6 div.sk-text-repr-fallback {display: none;}</style><div id=\"sk-container-id-6\" class=\"sk-top-container\"><div class=\"sk-text-repr-fallback\"><pre>PCA(n_components=0.95)</pre><b>In a Jupyter environment, please rerun this cell to show the HTML representation or trust the notebook. <br />On GitHub, the HTML representation is unable to render, please try loading this page with nbviewer.org.</b></div><div class=\"sk-container\" hidden><div class=\"sk-item\"><div class=\"sk-estimator sk-toggleable\"><input class=\"sk-toggleable__control sk-hidden--visually\" id=\"sk-estimator-id-10\" type=\"checkbox\" checked><label for=\"sk-estimator-id-10\" class=\"sk-toggleable__label sk-toggleable__label-arrow\">PCA</label><div class=\"sk-toggleable__content\"><pre>PCA(n_components=0.95)</pre></div></div></div></div></div>"
      ],
      "text/plain": [
       "PCA(n_components=0.95)"
      ]
     },
     "execution_count": 46,
     "metadata": {},
     "output_type": "execute_result"
    }
   ],
   "source": [
    "#fit data for pca\n",
    "pca = PCA(n_components = 0.95) # keeping 95% variance\n",
    "X_train_pca = pca.fit_transform(X_train_processed)\n",
    "X_test_pca = pca.transform(X_test_processed)\n",
    "\n",
    "pca.fit(X_train_pca)"
   ]
  },
  {
   "cell_type": "code",
   "execution_count": 47,
   "metadata": {
    "colab": {
     "base_uri": "https://localhost:8080/",
     "height": 72
    },
    "executionInfo": {
     "elapsed": 1443,
     "status": "ok",
     "timestamp": 1680912446579,
     "user": {
      "displayName": "Chastity Benton",
      "userId": "02800610617621087993"
     },
     "user_tz": 240
    },
    "id": "pRrPj1Nq_Hkh",
    "outputId": "5a6214b0-2c08-4857-bca7-92a0786f660f"
   },
   "outputs": [
    {
     "data": {
      "text/html": [
       "<style>#sk-container-id-7 {color: black;background-color: white;}#sk-container-id-7 pre{padding: 0;}#sk-container-id-7 div.sk-toggleable {background-color: white;}#sk-container-id-7 label.sk-toggleable__label {cursor: pointer;display: block;width: 100%;margin-bottom: 0;padding: 0.3em;box-sizing: border-box;text-align: center;}#sk-container-id-7 label.sk-toggleable__label-arrow:before {content: \"▸\";float: left;margin-right: 0.25em;color: #696969;}#sk-container-id-7 label.sk-toggleable__label-arrow:hover:before {color: black;}#sk-container-id-7 div.sk-estimator:hover label.sk-toggleable__label-arrow:before {color: black;}#sk-container-id-7 div.sk-toggleable__content {max-height: 0;max-width: 0;overflow: hidden;text-align: left;background-color: #f0f8ff;}#sk-container-id-7 div.sk-toggleable__content pre {margin: 0.2em;color: black;border-radius: 0.25em;background-color: #f0f8ff;}#sk-container-id-7 input.sk-toggleable__control:checked~div.sk-toggleable__content {max-height: 200px;max-width: 100%;overflow: auto;}#sk-container-id-7 input.sk-toggleable__control:checked~label.sk-toggleable__label-arrow:before {content: \"▾\";}#sk-container-id-7 div.sk-estimator input.sk-toggleable__control:checked~label.sk-toggleable__label {background-color: #d4ebff;}#sk-container-id-7 div.sk-label input.sk-toggleable__control:checked~label.sk-toggleable__label {background-color: #d4ebff;}#sk-container-id-7 input.sk-hidden--visually {border: 0;clip: rect(1px 1px 1px 1px);clip: rect(1px, 1px, 1px, 1px);height: 1px;margin: -1px;overflow: hidden;padding: 0;position: absolute;width: 1px;}#sk-container-id-7 div.sk-estimator {font-family: monospace;background-color: #f0f8ff;border: 1px dotted black;border-radius: 0.25em;box-sizing: border-box;margin-bottom: 0.5em;}#sk-container-id-7 div.sk-estimator:hover {background-color: #d4ebff;}#sk-container-id-7 div.sk-parallel-item::after {content: \"\";width: 100%;border-bottom: 1px solid gray;flex-grow: 1;}#sk-container-id-7 div.sk-label:hover label.sk-toggleable__label {background-color: #d4ebff;}#sk-container-id-7 div.sk-serial::before {content: \"\";position: absolute;border-left: 1px solid gray;box-sizing: border-box;top: 0;bottom: 0;left: 50%;z-index: 0;}#sk-container-id-7 div.sk-serial {display: flex;flex-direction: column;align-items: center;background-color: white;padding-right: 0.2em;padding-left: 0.2em;position: relative;}#sk-container-id-7 div.sk-item {position: relative;z-index: 1;}#sk-container-id-7 div.sk-parallel {display: flex;align-items: stretch;justify-content: center;background-color: white;position: relative;}#sk-container-id-7 div.sk-item::before, #sk-container-id-7 div.sk-parallel-item::before {content: \"\";position: absolute;border-left: 1px solid gray;box-sizing: border-box;top: 0;bottom: 0;left: 50%;z-index: -1;}#sk-container-id-7 div.sk-parallel-item {display: flex;flex-direction: column;z-index: 1;position: relative;background-color: white;}#sk-container-id-7 div.sk-parallel-item:first-child::after {align-self: flex-end;width: 50%;}#sk-container-id-7 div.sk-parallel-item:last-child::after {align-self: flex-start;width: 50%;}#sk-container-id-7 div.sk-parallel-item:only-child::after {width: 0;}#sk-container-id-7 div.sk-dashed-wrapped {border: 1px dashed gray;margin: 0 0.4em 0.5em 0.4em;box-sizing: border-box;padding-bottom: 0.4em;background-color: white;}#sk-container-id-7 div.sk-label label {font-family: monospace;font-weight: bold;display: inline-block;line-height: 1.2em;}#sk-container-id-7 div.sk-label-container {text-align: center;}#sk-container-id-7 div.sk-container {/* jupyter's `normalize.less` sets `[hidden] { display: none; }` but bootstrap.min.css set `[hidden] { display: none !important; }` so we also need the `!important` here to be able to override the default hidden behavior on the sphinx rendered scikit-learn.org. See: https://github.com/scikit-learn/scikit-learn/issues/21755 */display: inline-block !important;position: relative;}#sk-container-id-7 div.sk-text-repr-fallback {display: none;}</style><div id=\"sk-container-id-7\" class=\"sk-top-container\"><div class=\"sk-text-repr-fallback\"><pre>LogisticRegression(max_iter=200)</pre><b>In a Jupyter environment, please rerun this cell to show the HTML representation or trust the notebook. <br />On GitHub, the HTML representation is unable to render, please try loading this page with nbviewer.org.</b></div><div class=\"sk-container\" hidden><div class=\"sk-item\"><div class=\"sk-estimator sk-toggleable\"><input class=\"sk-toggleable__control sk-hidden--visually\" id=\"sk-estimator-id-11\" type=\"checkbox\" checked><label for=\"sk-estimator-id-11\" class=\"sk-toggleable__label sk-toggleable__label-arrow\">LogisticRegression</label><div class=\"sk-toggleable__content\"><pre>LogisticRegression(max_iter=200)</pre></div></div></div></div></div>"
      ],
      "text/plain": [
       "LogisticRegression(max_iter=200)"
      ]
     },
     "execution_count": 47,
     "metadata": {},
     "output_type": "execute_result"
    }
   ],
   "source": [
    "#instantiate the model\n",
    "LL = LogisticRegression(solver='lbfgs',max_iter=200) # liblinear solver works well for smaller datasets \n",
    "\n",
    "#fit \n",
    "LL.fit(X_train_pca, y_train)"
   ]
  },
  {
   "cell_type": "code",
   "execution_count": 48,
   "metadata": {},
   "outputs": [],
   "source": [
    "pred_y_test=LL.predict(X_test_pca)"
   ]
  },
  {
   "cell_type": "code",
   "execution_count": 49,
   "metadata": {},
   "outputs": [],
   "source": [
    "accuracy_ll, sensitivity_ll, specificity_ll = get_performance(y_test, pred_y_test)\n"
   ]
  },
  {
   "cell_type": "code",
   "execution_count": 50,
   "metadata": {},
   "outputs": [
    {
     "data": {
      "text/html": [
       "<div>\n",
       "<style scoped>\n",
       "    .dataframe tbody tr th:only-of-type {\n",
       "        vertical-align: middle;\n",
       "    }\n",
       "\n",
       "    .dataframe tbody tr th {\n",
       "        vertical-align: top;\n",
       "    }\n",
       "\n",
       "    .dataframe thead th {\n",
       "        text-align: right;\n",
       "    }\n",
       "</style>\n",
       "<table border=\"1\" class=\"dataframe\">\n",
       "  <thead>\n",
       "    <tr style=\"text-align: right;\">\n",
       "      <th></th>\n",
       "      <th>accuracy</th>\n",
       "      <th>sensitivity</th>\n",
       "      <th>specificity</th>\n",
       "    </tr>\n",
       "  </thead>\n",
       "  <tbody>\n",
       "    <tr>\n",
       "      <th>Logistic Regression</th>\n",
       "      <td>0.932464</td>\n",
       "      <td>0.929862</td>\n",
       "      <td>0.936038</td>\n",
       "    </tr>\n",
       "  </tbody>\n",
       "</table>\n",
       "</div>"
      ],
      "text/plain": [
       "                     accuracy  sensitivity  specificity\n",
       "Logistic Regression  0.932464     0.929862     0.936038"
      ]
     },
     "execution_count": 50,
     "metadata": {},
     "output_type": "execute_result"
    }
   ],
   "source": [
    "perf3 = pd.DataFrame([accuracy_ll], \n",
    "                    columns = ['accuracy'], \n",
    "                    index = ['Logistic Regression'])\n",
    "\n",
    "perf3['sensitivity'] = np.asarray([sensitivity_ll])\n",
    "\n",
    "perf3['specificity'] = np.asarray([specificity_ll])\n",
    "\n",
    "perf3 # this is worse than perf1"
   ]
  },
  {
   "cell_type": "code",
   "execution_count": 51,
   "metadata": {
    "colab": {
     "base_uri": "https://localhost:8080/",
     "height": 590
    },
    "executionInfo": {
     "elapsed": 1610990,
     "status": "ok",
     "timestamp": 1680914061596,
     "user": {
      "displayName": "Chastity Benton",
      "userId": "02800610617621087993"
     },
     "user_tz": 240
    },
    "id": "O04N94BbFI0o",
    "outputId": "8c68288f-8ce6-4ab5-dd78-16484bc01110"
   },
   "outputs": [
    {
     "data": {
      "image/png": "[encoded data removed]",
      "text/plain": [
       "<Figure size 640x480 with 1 Axes>"
      ]
     },
     "metadata": {},
     "output_type": "display_data"
    }
   ],
   "source": [
    "from sklearn.metrics import roc_curve, auc\n",
    "score_Y_dt = LL.predict_proba(X_test_pca) # probability\n",
    "fpr, tpr, _ = roc_curve(y_test, score_Y_dt[:,1])\n",
    "roc_auc = auc(fpr, tpr)\n",
    "\n",
    "plt.figure()\n",
    "lw = 2\n",
    "plt.plot(fpr, tpr, color='darkorange',lw=lw, label='ROC curve (area = %0.2f)' % roc_auc)\n",
    "plt.plot([0, 1], [0, 1], color='navy', lw=lw, linestyle='--')\n",
    "plt.xlim([0.0, 1.0])\n",
    "plt.ylim([0.0, 1.05])\n",
    "plt.xlabel('False Positive Rate')\n",
    "plt.ylabel('True Positive Rate')\n",
    "plt.title('Receiver operating characteristic example')\n",
    "plt.legend(loc=\"lower right\")\n",
    "plt.show()"
   ]
  },
  {
   "cell_type": "code",
   "execution_count": 52,
   "metadata": {},
   "outputs": [
    {
     "name": "stdout",
     "output_type": "stream",
     "text": [
      "Before PCA:\n",
      "                     accuracy  sensitivity  specificity\n",
      "Logistic Regression   0.93558     0.930363     0.942748\n",
      "--------------------------------------------------------------------------------\n",
      "After PCA with liblinear solver:\n",
      "                     accuracy  sensitivity  specificity\n",
      "Logistic Regression   0.92681     0.930081     0.922316\n",
      "--------------------------------------------------------------------------------\n",
      "After PCA with lbfgs solver:\n",
      "                     accuracy  sensitivity  specificity\n",
      "Logistic Regression  0.932464     0.929862     0.936038\n",
      "--------------------------------------------------------------------------------\n"
     ]
    }
   ],
   "source": [
    "print('Before PCA:')\n",
    "print(perf1)\n",
    "print('-' * 80)\n",
    "print('After PCA with liblinear solver:')\n",
    "print(perf2)\n",
    "print('-' * 80)\n",
    "print('After PCA with lbfgs solver:')\n",
    "print(perf3)\n",
    "print('-' * 80)"
   ]
  }
 ],
 "metadata": {
  "colab": {
   "provenance": [
    {
     "file_id": "1AeajP2eIJjpZJ0x2tCJtCVUhjGhjBryb",
     "timestamp": 1680825205989
    }
   ]
  },
  "kernelspec": {
   "display_name": "Python 3 (ipykernel)",
   "language": "python",
   "name": "python3"
  },
  "language_info": {
   "codemirror_mode": {
    "name": "ipython",
    "version": 3
   },
   "file_extension": ".py",
   "mimetype": "text/x-python",
   "name": "python",
   "nbconvert_exporter": "python",
   "pygments_lexer": "ipython3",
   "version": "3.9.15"
  },
  "toc": {
   "base_numbering": 1,
   "nav_menu": {},
   "number_sections": true,
   "sideBar": true,
   "skip_h1_title": false,
   "title_cell": "Table of Contents",
   "title_sidebar": "Contents",
   "toc_cell": true,
   "toc_position": {
    "height": "calc(100% - 180px)",
    "left": "10px",
    "top": "150px",
    "width": "164.995px"
   },
   "toc_section_display": true,
   "toc_window_display": true
  }
 },
 "nbformat": 4,
 "nbformat_minor": 1
}
